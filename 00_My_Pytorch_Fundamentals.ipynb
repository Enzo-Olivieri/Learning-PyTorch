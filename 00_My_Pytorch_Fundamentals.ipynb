{
  "nbformat": 4,
  "nbformat_minor": 0,
  "metadata": {
    "colab": {
      "provenance": [],
      "gpuType": "T4",
      "authorship_tag": "ABX9TyODip8POynZklEZzxSBaCYq"
    },
    "kernelspec": {
      "name": "python3",
      "display_name": "Python 3"
    },
    "language_info": {
      "name": "python"
    },
    "accelerator": "GPU"
  },
  "cells": [
    {
      "cell_type": "markdown",
      "source": [
        "# 00 00. PyTorch Fundamentals\n",
        "https://www.learnpytorch.io/00_pytorch_fundamentals/"
      ],
      "metadata": {
        "id": "gft1srvTQeJ5"
      }
    },
    {
      "cell_type": "code",
      "source": [
        "import torch\n",
        "\n",
        "print(torch.__version__)"
      ],
      "metadata": {
        "colab": {
          "base_uri": "https://localhost:8080/"
        },
        "id": "QAfebiHCpUiK",
        "outputId": "f6c2d8e5-0906-4e8a-c727-1e1c8a22b83b"
      },
      "execution_count": 2,
      "outputs": [
        {
          "output_type": "stream",
          "name": "stdout",
          "text": [
            "2.6.0+cu124\n"
          ]
        }
      ]
    },
    {
      "cell_type": "markdown",
      "source": [
        "#Introduction to Tensors\n",
        "Creating tensors:\n",
        "https://pytorch.org/tutorials/beginner/basics/tensorqs_tutorial.html\n",
        "\n",
        "Tensors in pytroch can be initialised by using `torch.tensor()` or `torch.tensor(some_data)`"
      ],
      "metadata": {
        "id": "7udvQrfqp3aE"
      }
    },
    {
      "cell_type": "code",
      "source": [
        "#scalar\n",
        "scalar = torch.tensor(42)\n",
        "scalar"
      ],
      "metadata": {
        "colab": {
          "base_uri": "https://localhost:8080/"
        },
        "id": "UG44ufdrsyQU",
        "outputId": "261f179c-e30d-4636-cf50-273d7846daf2"
      },
      "execution_count": 3,
      "outputs": [
        {
          "output_type": "execute_result",
          "data": {
            "text/plain": [
              "tensor(42)"
            ]
          },
          "metadata": {},
          "execution_count": 3
        }
      ]
    },
    {
      "cell_type": "code",
      "source": [
        "scalar.dim()"
      ],
      "metadata": {
        "colab": {
          "base_uri": "https://localhost:8080/"
        },
        "id": "_HKul0qCs5L4",
        "outputId": "6d1d007d-3557-4f3a-a116-df3a8841767a"
      },
      "execution_count": 4,
      "outputs": [
        {
          "output_type": "execute_result",
          "data": {
            "text/plain": [
              "0"
            ]
          },
          "metadata": {},
          "execution_count": 4
        }
      ]
    },
    {
      "cell_type": "code",
      "source": [
        "#to get back a python int only\n",
        "scalar.item()"
      ],
      "metadata": {
        "colab": {
          "base_uri": "https://localhost:8080/"
        },
        "id": "aBEG6CMmuF15",
        "outputId": "7f2d7e29-914c-4f61-d11d-87a5fdeccfbe"
      },
      "execution_count": 5,
      "outputs": [
        {
          "output_type": "execute_result",
          "data": {
            "text/plain": [
              "42"
            ]
          },
          "metadata": {},
          "execution_count": 5
        }
      ]
    },
    {
      "cell_type": "code",
      "source": [
        "#Vector\n",
        "vector = torch.tensor([1,2])\n",
        "vector.dim()"
      ],
      "metadata": {
        "colab": {
          "base_uri": "https://localhost:8080/"
        },
        "id": "d666q8JVuJs8",
        "outputId": "b9357157-c66f-42b9-f763-89894df2cd94"
      },
      "execution_count": 6,
      "outputs": [
        {
          "output_type": "execute_result",
          "data": {
            "text/plain": [
              "1"
            ]
          },
          "metadata": {},
          "execution_count": 6
        }
      ]
    },
    {
      "cell_type": "code",
      "source": [
        "vector.shape"
      ],
      "metadata": {
        "colab": {
          "base_uri": "https://localhost:8080/"
        },
        "id": "pczmSk9yuSdD",
        "outputId": "fb0fd12d-a399-4d8a-8455-072e65873494"
      },
      "execution_count": 7,
      "outputs": [
        {
          "output_type": "execute_result",
          "data": {
            "text/plain": [
              "torch.Size([2])"
            ]
          },
          "metadata": {},
          "execution_count": 7
        }
      ]
    },
    {
      "cell_type": "code",
      "source": [
        "#Matrix\n",
        "\n",
        "matrix = torch.tensor([[1,2,3],[4,5,6]])\n",
        "print(\"shape:\", matrix.shape)\n",
        "print(\"dimension:\", matrix.dim())\n",
        "matrix[0]"
      ],
      "metadata": {
        "colab": {
          "base_uri": "https://localhost:8080/"
        },
        "id": "OANVzdAlu_Gq",
        "outputId": "ece81372-c1b9-4d40-c3ef-b8f822997c97"
      },
      "execution_count": 8,
      "outputs": [
        {
          "output_type": "stream",
          "name": "stdout",
          "text": [
            "shape: torch.Size([2, 3])\n",
            "dimension: 2\n"
          ]
        },
        {
          "output_type": "execute_result",
          "data": {
            "text/plain": [
              "tensor([1, 2, 3])"
            ]
          },
          "metadata": {},
          "execution_count": 8
        }
      ]
    },
    {
      "cell_type": "code",
      "source": [
        "# TENSOR\n",
        "TENSOR = torch.tensor([\n",
        "    [ [[1,2,3],[4,5,6]], [[7,8,9],[10,11,12]] ],\n",
        "\n",
        "    [ [[13,14,15],[16,17,18]], [[19,20,21],[22,23,24]] ]\n",
        "    ])\n",
        "print(TENSOR.shape)\n",
        "print(TENSOR.dim())"
      ],
      "metadata": {
        "colab": {
          "base_uri": "https://localhost:8080/"
        },
        "id": "5A6zqlt5wYkF",
        "outputId": "2143a865-1fd9-433a-b902-1d22c9acf31c"
      },
      "execution_count": 9,
      "outputs": [
        {
          "output_type": "stream",
          "name": "stdout",
          "text": [
            "torch.Size([2, 2, 2, 3])\n",
            "4\n"
          ]
        }
      ]
    },
    {
      "cell_type": "code",
      "source": [
        "tens = torch.tensor([ [[1,1],[1,1]],[[1,1],[1,1]] ])\n",
        "\n",
        "print(tens.shape)\n",
        "print(tens.dim())"
      ],
      "metadata": {
        "id": "CjuUiGqAxwjf",
        "colab": {
          "base_uri": "https://localhost:8080/"
        },
        "outputId": "4f32f50b-f03f-425e-b526-2c9bacbd64e8"
      },
      "execution_count": 10,
      "outputs": [
        {
          "output_type": "stream",
          "name": "stdout",
          "text": [
            "torch.Size([2, 2, 2])\n",
            "3\n"
          ]
        }
      ]
    },
    {
      "cell_type": "code",
      "source": [
        "x = torch.tensor([ [1],[1],[1],[1] ])\n",
        "x.dim()"
      ],
      "metadata": {
        "colab": {
          "base_uri": "https://localhost:8080/"
        },
        "id": "SM22AgbjOWoJ",
        "outputId": "6920d410-4ea9-42f4-be6e-e37713e600f6"
      },
      "execution_count": 11,
      "outputs": [
        {
          "output_type": "execute_result",
          "data": {
            "text/plain": [
              "2"
            ]
          },
          "metadata": {},
          "execution_count": 11
        }
      ]
    },
    {
      "cell_type": "markdown",
      "source": [
        "# Random Tensor\n",
        "\n",
        "Important because NNs start out with tensors full of random numbers"
      ],
      "metadata": {
        "id": "Ch6KFxS8T2tV"
      }
    },
    {
      "cell_type": "code",
      "source": [
        "rand = torch.rand(1,3,4)\n",
        "print(rand)\n",
        "rand.dim()"
      ],
      "metadata": {
        "colab": {
          "base_uri": "https://localhost:8080/"
        },
        "id": "NOnoRAoSWA9r",
        "outputId": "dfe109c1-b7e0-4741-8c3e-0c5f5e4c5caa"
      },
      "execution_count": 12,
      "outputs": [
        {
          "output_type": "stream",
          "name": "stdout",
          "text": [
            "tensor([[[0.0493, 0.1542, 0.5872, 0.5813],\n",
            "         [0.2094, 0.7129, 0.0609, 0.0273],\n",
            "         [0.3255, 0.3260, 0.5979, 0.2775]]])\n"
          ]
        },
        {
          "output_type": "execute_result",
          "data": {
            "text/plain": [
              "3"
            ]
          },
          "metadata": {},
          "execution_count": 12
        }
      ]
    },
    {
      "cell_type": "code",
      "source": [
        "# Image like Tensor\n",
        "\n",
        "img_rand_tens = torch.rand(3,255,255)\n",
        "img_rand_tens"
      ],
      "metadata": {
        "colab": {
          "base_uri": "https://localhost:8080/"
        },
        "id": "gVicyx8KWVO1",
        "outputId": "a5a5ae38-b446-4c4f-edda-181d5b9b0ed6"
      },
      "execution_count": 13,
      "outputs": [
        {
          "output_type": "execute_result",
          "data": {
            "text/plain": [
              "tensor([[[0.3238, 0.1820, 0.3782,  ..., 0.4328, 0.5550, 0.9875],\n",
              "         [0.5849, 0.2362, 0.5719,  ..., 0.9722, 0.6912, 0.1510],\n",
              "         [0.8359, 0.1641, 0.5826,  ..., 0.8750, 0.3033, 0.8417],\n",
              "         ...,\n",
              "         [0.0127, 0.1063, 0.9746,  ..., 0.5089, 0.7246, 0.6266],\n",
              "         [0.9425, 0.3214, 0.4297,  ..., 0.6575, 0.6178, 0.4091],\n",
              "         [0.8288, 0.5523, 0.4660,  ..., 0.5430, 0.4196, 0.8243]],\n",
              "\n",
              "        [[0.3454, 0.0592, 0.6359,  ..., 0.9221, 0.0387, 0.0550],\n",
              "         [0.5540, 0.4078, 0.9704,  ..., 0.2421, 0.4518, 0.7387],\n",
              "         [0.8663, 0.8349, 0.7915,  ..., 0.2910, 0.4224, 0.0622],\n",
              "         ...,\n",
              "         [0.0254, 0.1321, 0.7150,  ..., 0.1742, 0.9779, 0.0137],\n",
              "         [0.8060, 0.1137, 0.7611,  ..., 0.9235, 0.7616, 0.2278],\n",
              "         [0.8103, 0.2126, 0.4114,  ..., 0.0465, 0.3440, 0.5331]],\n",
              "\n",
              "        [[0.5520, 0.3620, 0.2506,  ..., 0.0247, 0.5642, 0.2507],\n",
              "         [0.5997, 0.6285, 0.0105,  ..., 0.2916, 0.2508, 0.6920],\n",
              "         [0.0147, 0.7488, 0.3294,  ..., 0.4748, 0.1010, 0.4347],\n",
              "         ...,\n",
              "         [0.7338, 0.2603, 0.6949,  ..., 0.8479, 0.7133, 0.9909],\n",
              "         [0.2713, 0.5743, 0.8876,  ..., 0.8061, 0.6317, 0.5991],\n",
              "         [0.8361, 0.5977, 0.1858,  ..., 0.2245, 0.1431, 0.2487]]])"
            ]
          },
          "metadata": {},
          "execution_count": 13
        }
      ]
    },
    {
      "cell_type": "code",
      "source": [
        "zeros = torch.zeros(3,3)\n",
        "zeros"
      ],
      "metadata": {
        "colab": {
          "base_uri": "https://localhost:8080/"
        },
        "id": "LnZ8xY4mjQkg",
        "outputId": "39f7360c-1104-4f3b-9616-73f6e77c90cc"
      },
      "execution_count": 14,
      "outputs": [
        {
          "output_type": "execute_result",
          "data": {
            "text/plain": [
              "tensor([[0., 0., 0.],\n",
              "        [0., 0., 0.],\n",
              "        [0., 0., 0.]])"
            ]
          },
          "metadata": {},
          "execution_count": 14
        }
      ]
    },
    {
      "cell_type": "code",
      "source": [
        "ones = torch.ones(3,3)\n",
        "ones"
      ],
      "metadata": {
        "colab": {
          "base_uri": "https://localhost:8080/"
        },
        "id": "ufBYxCvmk7tz",
        "outputId": "46729962-2e5a-479c-8ba6-f83ca683d85b"
      },
      "execution_count": 15,
      "outputs": [
        {
          "output_type": "execute_result",
          "data": {
            "text/plain": [
              "tensor([[1., 1., 1.],\n",
              "        [1., 1., 1.],\n",
              "        [1., 1., 1.]])"
            ]
          },
          "metadata": {},
          "execution_count": 15
        }
      ]
    },
    {
      "cell_type": "code",
      "source": [
        "ones[1] = ones[1]*zeros[1]\n",
        "ones"
      ],
      "metadata": {
        "colab": {
          "base_uri": "https://localhost:8080/"
        },
        "id": "0nP04esPlBny",
        "outputId": "07fa1086-8651-4ffc-9f5b-84e3b3d6c49e"
      },
      "execution_count": 16,
      "outputs": [
        {
          "output_type": "execute_result",
          "data": {
            "text/plain": [
              "tensor([[1., 1., 1.],\n",
              "        [0., 0., 0.],\n",
              "        [1., 1., 1.]])"
            ]
          },
          "metadata": {},
          "execution_count": 16
        }
      ]
    },
    {
      "cell_type": "code",
      "source": [
        "# Range\n",
        "\n",
        "range = torch.arange(0,10)\n",
        "range"
      ],
      "metadata": {
        "colab": {
          "base_uri": "https://localhost:8080/"
        },
        "id": "TVVjjiumlbAp",
        "outputId": "db6dbedd-f133-4388-ab50-5205e85682a2"
      },
      "execution_count": 17,
      "outputs": [
        {
          "output_type": "execute_result",
          "data": {
            "text/plain": [
              "tensor([0, 1, 2, 3, 4, 5, 6, 7, 8, 9])"
            ]
          },
          "metadata": {},
          "execution_count": 17
        }
      ]
    },
    {
      "cell_type": "code",
      "source": [
        "# creating tensors of the same shape of ones or zeroes as other tensors\n",
        "\n",
        "rand = torch.rand(3,5)\n",
        "print(rand.shape)\n",
        "ones_like_rand = torch.ones_like(rand)\n",
        "print(ones_like_rand.shape)"
      ],
      "metadata": {
        "colab": {
          "base_uri": "https://localhost:8080/"
        },
        "id": "oxWGobvxvznR",
        "outputId": "7c074c61-5676-4a83-842a-2b85fb540b7a"
      },
      "execution_count": 18,
      "outputs": [
        {
          "output_type": "stream",
          "name": "stdout",
          "text": [
            "torch.Size([3, 5])\n",
            "torch.Size([3, 5])\n"
          ]
        }
      ]
    },
    {
      "cell_type": "markdown",
      "source": [
        "#Data types\n",
        "\n",
        "#tensors default to data type float32"
      ],
      "metadata": {
        "id": "IYs7wukKxBoT"
      }
    },
    {
      "cell_type": "code",
      "source": [
        "float_32 = torch.tensor([1.0,2.0,3.0],\n",
        "                        device=None,\n",
        "                        requires_grad = False)\n",
        "print(float_32.dtype)\n",
        "\n",
        "\n",
        "float_16 = torch.tensor([5.0,6.0,7.0],\n",
        "                        dtype = torch.float16,\n",
        "                        device=None,\n",
        "                        requires_grad = False)\n",
        "print(float_16.dtype)\n"
      ],
      "metadata": {
        "colab": {
          "base_uri": "https://localhost:8080/"
        },
        "id": "Ld41M6v61gIJ",
        "outputId": "035704d1-4297-47a8-bf87-14f6a5abe530"
      },
      "execution_count": 19,
      "outputs": [
        {
          "output_type": "stream",
          "name": "stdout",
          "text": [
            "torch.float32\n",
            "torch.float16\n"
          ]
        }
      ]
    },
    {
      "cell_type": "code",
      "source": [
        "#can change dtype\n",
        "\n",
        "from_32_to_16 = float_32.type(torch.float16)\n",
        "print(from_32_to_16.dtype)\n",
        "from_32_to_16.device"
      ],
      "metadata": {
        "colab": {
          "base_uri": "https://localhost:8080/"
        },
        "id": "9EmKYZCD20lZ",
        "outputId": "6c4a1411-4a40-4e47-e6c5-4fefea89cead"
      },
      "execution_count": 20,
      "outputs": [
        {
          "output_type": "stream",
          "name": "stdout",
          "text": [
            "torch.float16\n"
          ]
        },
        {
          "output_type": "execute_result",
          "data": {
            "text/plain": [
              "device(type='cpu')"
            ]
          },
          "metadata": {},
          "execution_count": 20
        }
      ]
    },
    {
      "cell_type": "markdown",
      "source": [
        "#Getting Tensor Attributes\n",
        "\n",
        "\n",
        "1.   To get dtype use `tensor.dtype`\n",
        "2.   To get shape use `tensor.shape`\n",
        "3.   To get device use `tensor.device`\n",
        "\n",
        "\n",
        "\n"
      ],
      "metadata": {
        "id": "GsjjWnWecBno"
      }
    },
    {
      "cell_type": "code",
      "source": [
        "another_tensor = torch.rand(3,4, dtype = torch.float16)\n",
        "\n",
        "print(f\"tensor data type {another_tensor.dtype}\")\n",
        "print(f\"tensor shape {another_tensor.shape}\")\n",
        "print(f\"tensor device location {another_tensor.device}\")"
      ],
      "metadata": {
        "colab": {
          "base_uri": "https://localhost:8080/"
        },
        "id": "hUqBr_ZvYy2s",
        "outputId": "f89edd5f-e042-482c-aa9d-272ec4ae4847"
      },
      "execution_count": 21,
      "outputs": [
        {
          "output_type": "stream",
          "name": "stdout",
          "text": [
            "tensor data type torch.float16\n",
            "tensor shape torch.Size([3, 4])\n",
            "tensor device location cpu\n"
          ]
        }
      ]
    },
    {
      "cell_type": "markdown",
      "source": [
        "#Getting information from tensors\n",
        "to get dtype use `tensor.dtype`\n",
        "\n",
        "1.   List item\n",
        "2.   List item\n",
        "\n",
        "\n",
        "to get shape use `tensor.shape`\n",
        "to get device use `tensor.device`"
      ],
      "metadata": {
        "id": "L9bl3uKIcGW1"
      }
    },
    {
      "cell_type": "markdown",
      "source": [
        "#Manipulating Tensors"
      ],
      "metadata": {
        "id": "Oo8W5MK83zhl"
      }
    },
    {
      "cell_type": "code",
      "source": [
        "#Addition\n",
        "tensor = torch.tensor([1,2,3])\n",
        "print(tensor + 10)\n",
        "#tensor.add_(100) works too\n"
      ],
      "metadata": {
        "colab": {
          "base_uri": "https://localhost:8080/"
        },
        "id": "D4NkuoaLBUy7",
        "outputId": "a82b18eb-7afc-4c8c-ab80-f25469e3a804"
      },
      "execution_count": 22,
      "outputs": [
        {
          "output_type": "stream",
          "name": "stdout",
          "text": [
            "tensor([11, 12, 13])\n"
          ]
        }
      ]
    },
    {
      "cell_type": "code",
      "source": [
        "#Multiplication\n",
        "\n",
        "tensor * 20"
      ],
      "metadata": {
        "colab": {
          "base_uri": "https://localhost:8080/"
        },
        "id": "1b38Mm_JBdqV",
        "outputId": "2641302b-dcf1-4c19-e8e1-177583716039"
      },
      "execution_count": 23,
      "outputs": [
        {
          "output_type": "execute_result",
          "data": {
            "text/plain": [
              "tensor([20, 40, 60])"
            ]
          },
          "metadata": {},
          "execution_count": 23
        }
      ]
    },
    {
      "cell_type": "code",
      "source": [
        "#subtract\n",
        "tensor - 30"
      ],
      "metadata": {
        "colab": {
          "base_uri": "https://localhost:8080/"
        },
        "id": "m0R3pAfyCSCB",
        "outputId": "d977bb8c-6430-4f1f-a5c0-3969231a6de0"
      },
      "execution_count": 24,
      "outputs": [
        {
          "output_type": "execute_result",
          "data": {
            "text/plain": [
              "tensor([-29, -28, -27])"
            ]
          },
          "metadata": {},
          "execution_count": 24
        }
      ]
    },
    {
      "cell_type": "code",
      "source": [
        "torch.add(tensor, 10)\n"
      ],
      "metadata": {
        "colab": {
          "base_uri": "https://localhost:8080/"
        },
        "id": "pLGRtmdICuST",
        "outputId": "b40d06d8-9be7-4b97-ee97-a6b7e6a8886f"
      },
      "execution_count": 25,
      "outputs": [
        {
          "output_type": "execute_result",
          "data": {
            "text/plain": [
              "tensor([11, 12, 13])"
            ]
          },
          "metadata": {},
          "execution_count": 25
        }
      ]
    },
    {
      "cell_type": "markdown",
      "source": [
        "#Matrix Multiplication"
      ],
      "metadata": {
        "id": "DGaUIZrGYfCi"
      }
    },
    {
      "cell_type": "code",
      "source": [
        "#element wise multiplication\n",
        "print(tensor, \"*\", tensor)\n",
        "print(f\"Equals: {tensor * tensor}\")"
      ],
      "metadata": {
        "colab": {
          "base_uri": "https://localhost:8080/"
        },
        "id": "O_J6yqJwDMXD",
        "outputId": "70ce2fd2-c6ee-42ad-b19c-aab4d6fe2a9b"
      },
      "execution_count": 26,
      "outputs": [
        {
          "output_type": "stream",
          "name": "stdout",
          "text": [
            "tensor([1, 2, 3]) * tensor([1, 2, 3])\n",
            "Equals: tensor([1, 4, 9])\n"
          ]
        }
      ]
    },
    {
      "cell_type": "code",
      "source": [
        "#matrix multiplication\n",
        "\n",
        "print(f\"{torch.matmul(tensor, tensor)}\")\n",
        "#or\n",
        "print(f\"{tensor @ tensor}\")"
      ],
      "metadata": {
        "id": "EeCkjWK2DSzY",
        "colab": {
          "base_uri": "https://localhost:8080/"
        },
        "outputId": "80681fb6-344b-4564-b61c-578c112b91f6"
      },
      "execution_count": 27,
      "outputs": [
        {
          "output_type": "stream",
          "name": "stdout",
          "text": [
            "14\n",
            "14\n"
          ]
        }
      ]
    },
    {
      "cell_type": "markdown",
      "source": [
        "#Tensor Shape Errors & Transposes\n",
        "\n",
        "1. Tensors that are to be multiplied must share the same inner shape dimension e.g (3,2) @ (2,3) or (7,3) @ (3,12)\n",
        "\n",
        "2. The outside dimensions provide the output shape e.g. for (7,3) @ (3,12) the output shape is a (7,12) Tensor."
      ],
      "metadata": {
        "id": "K6sN4U-98xtA"
      }
    },
    {
      "cell_type": "code",
      "source": [
        "TENSOR_A = torch.rand(3,2)\n",
        "TENSOR_B = torch.rand(3,2)\n",
        "\n",
        "#TENSOR_C = TENSOR_A @ TENSOR_B\n",
        "#This will give a shape error because Matrix mul cannot be done\n",
        "\n",
        "\n",
        "#Transpose one of the vectors to be abel to multiply them\n",
        "\n",
        "\n",
        "TENSOR_C = TENSOR_A @ TENSOR_B.T\n",
        "TENSOR_C\n",
        "#OR\n",
        "TENSOR_C = torch.matmul(TENSOR_A,TENSOR_B.T)\n",
        "TENSOR_C"
      ],
      "metadata": {
        "colab": {
          "base_uri": "https://localhost:8080/"
        },
        "id": "P7_B_OGf9UZ4",
        "outputId": "98fe574f-c199-47a8-8685-82e9d6bded53"
      },
      "execution_count": 28,
      "outputs": [
        {
          "output_type": "execute_result",
          "data": {
            "text/plain": [
              "tensor([[0.0758, 0.1186, 0.1169],\n",
              "        [0.1933, 0.1416, 0.0346],\n",
              "        [0.5524, 0.3886, 0.0723]])"
            ]
          },
          "metadata": {},
          "execution_count": 28
        }
      ]
    },
    {
      "cell_type": "markdown",
      "source": [
        "#Min, Max, Sum, Mean (Tensor Aggregation)"
      ],
      "metadata": {
        "id": "4bMKJfsT9_Ff"
      }
    },
    {
      "cell_type": "code",
      "source": [
        "TENSOR = torch.arange(1,100,10)\n",
        "TENSOR"
      ],
      "metadata": {
        "colab": {
          "base_uri": "https://localhost:8080/"
        },
        "id": "X3x2eMY3Chac",
        "outputId": "05660746-05c8-4455-80d3-bfa19fc87be7"
      },
      "execution_count": 29,
      "outputs": [
        {
          "output_type": "execute_result",
          "data": {
            "text/plain": [
              "tensor([ 1, 11, 21, 31, 41, 51, 61, 71, 81, 91])"
            ]
          },
          "metadata": {},
          "execution_count": 29
        }
      ]
    },
    {
      "cell_type": "code",
      "source": [
        "#Min\n",
        "TENSOR.min()\n",
        "#or\n",
        "torch.min(TENSOR)"
      ],
      "metadata": {
        "colab": {
          "base_uri": "https://localhost:8080/"
        },
        "id": "clf9f16uCpVX",
        "outputId": "3c8e6f14-43ee-43cf-c01a-b73a4f975f57"
      },
      "execution_count": 30,
      "outputs": [
        {
          "output_type": "execute_result",
          "data": {
            "text/plain": [
              "tensor(1)"
            ]
          },
          "metadata": {},
          "execution_count": 30
        }
      ]
    },
    {
      "cell_type": "code",
      "source": [
        "#Max\n",
        "TENSOR.max()\n",
        "#or\n",
        "torch.max(TENSOR)"
      ],
      "metadata": {
        "colab": {
          "base_uri": "https://localhost:8080/"
        },
        "id": "EztTlojbCwUW",
        "outputId": "f0ca96db-f0ed-4628-99d0-4a88e79572e8"
      },
      "execution_count": 31,
      "outputs": [
        {
          "output_type": "execute_result",
          "data": {
            "text/plain": [
              "tensor(91)"
            ]
          },
          "metadata": {},
          "execution_count": 31
        }
      ]
    },
    {
      "cell_type": "code",
      "source": [
        "#Sum\n",
        "TENSOR.sum()\n",
        "#or\n",
        "torch.sum(TENSOR)"
      ],
      "metadata": {
        "colab": {
          "base_uri": "https://localhost:8080/"
        },
        "id": "q5W0Y9K9C_r7",
        "outputId": "36d3ac67-f649-4828-8000-54502c399494"
      },
      "execution_count": 32,
      "outputs": [
        {
          "output_type": "execute_result",
          "data": {
            "text/plain": [
              "tensor(460)"
            ]
          },
          "metadata": {},
          "execution_count": 32
        }
      ]
    },
    {
      "cell_type": "code",
      "source": [
        "#Mean\n",
        "#TENSOR.mean()\n",
        "#RuntimeError: mean(): could not infer output dtype. Input dtype must be either a floating point or complex dtype. Got: Long\n",
        "#Need to change data type for .mean() to work\n",
        "\n",
        "TENSOR.type(torch.float32).mean()\n",
        "#or\n",
        "torch.mean(TENSOR.type(torch.float32))"
      ],
      "metadata": {
        "colab": {
          "base_uri": "https://localhost:8080/"
        },
        "id": "AjUBYJZkDD2x",
        "outputId": "83a6ac3a-6779-40e7-8e15-378d648d7788"
      },
      "execution_count": 33,
      "outputs": [
        {
          "output_type": "execute_result",
          "data": {
            "text/plain": [
              "tensor(46.)"
            ]
          },
          "metadata": {},
          "execution_count": 33
        }
      ]
    },
    {
      "cell_type": "markdown",
      "source": [
        "#argmin() and argmax()"
      ],
      "metadata": {
        "id": "Y_h0Ub9dDKXc"
      }
    },
    {
      "cell_type": "code",
      "source": [
        "TENSOR"
      ],
      "metadata": {
        "colab": {
          "base_uri": "https://localhost:8080/"
        },
        "id": "DsY7iwQdE3HS",
        "outputId": "a2873f4d-1c13-48c9-a326-051cb2455914"
      },
      "execution_count": 34,
      "outputs": [
        {
          "output_type": "execute_result",
          "data": {
            "text/plain": [
              "tensor([ 1, 11, 21, 31, 41, 51, 61, 71, 81, 91])"
            ]
          },
          "metadata": {},
          "execution_count": 34
        }
      ]
    },
    {
      "cell_type": "code",
      "source": [
        "#index position of minimum value in tensor\n",
        "TENSOR.argmin()"
      ],
      "metadata": {
        "colab": {
          "base_uri": "https://localhost:8080/"
        },
        "id": "FoAAabb5E6Ni",
        "outputId": "d930f465-4cb7-4b8a-ff98-0178fa9267a4"
      },
      "execution_count": 35,
      "outputs": [
        {
          "output_type": "execute_result",
          "data": {
            "text/plain": [
              "tensor(0)"
            ]
          },
          "metadata": {},
          "execution_count": 35
        }
      ]
    },
    {
      "cell_type": "code",
      "source": [
        "#index position of maximum value in tensor\n",
        "\n",
        "TENSOR.argmax()"
      ],
      "metadata": {
        "colab": {
          "base_uri": "https://localhost:8080/"
        },
        "id": "6X9Ky8UnE_EI",
        "outputId": "86d2cd33-883c-45ac-e10e-44ae13d767dd"
      },
      "execution_count": 36,
      "outputs": [
        {
          "output_type": "execute_result",
          "data": {
            "text/plain": [
              "tensor(9)"
            ]
          },
          "metadata": {},
          "execution_count": 36
        }
      ]
    },
    {
      "cell_type": "markdown",
      "source": [
        "#Reshaping, Viewing, stacking, squeezing and unsqueezing, and Permuting\n"
      ],
      "metadata": {
        "id": "mvy7ROfHFA4w"
      }
    },
    {
      "cell_type": "code",
      "source": [
        "#Adding extra dimension (reshping to (1,10) also adds extra dimension)\n",
        "x = torch.arange(0.,10.)\n",
        "print(x)\n",
        "\n",
        "x = x.reshape(1,10)\n",
        "\n",
        "print(x, x.shape)\n",
        "x = x.reshape(5,2)\n",
        "\n",
        "print(\"\\n\", x, x.shape)"
      ],
      "metadata": {
        "colab": {
          "base_uri": "https://localhost:8080/"
        },
        "id": "3RnTLZFXGyd1",
        "outputId": "83ca9b4e-af86-4cd5-ab9f-750166971aee"
      },
      "execution_count": 37,
      "outputs": [
        {
          "output_type": "stream",
          "name": "stdout",
          "text": [
            "tensor([0., 1., 2., 3., 4., 5., 6., 7., 8., 9.])\n",
            "tensor([[0., 1., 2., 3., 4., 5., 6., 7., 8., 9.]]) torch.Size([1, 10])\n",
            "\n",
            " tensor([[0., 1.],\n",
            "        [2., 3.],\n",
            "        [4., 5.],\n",
            "        [6., 7.],\n",
            "        [8., 9.]]) torch.Size([5, 2])\n"
          ]
        }
      ]
    },
    {
      "cell_type": "code",
      "source": [
        "#Change the View\n",
        "z = x.view(10,1)\n",
        "z, z.shape"
      ],
      "metadata": {
        "id": "qXvI7bk3Mo_u",
        "colab": {
          "base_uri": "https://localhost:8080/"
        },
        "outputId": "3f58c0f3-2277-4ef7-c100-497ca28e5282"
      },
      "execution_count": 38,
      "outputs": [
        {
          "output_type": "execute_result",
          "data": {
            "text/plain": [
              "(tensor([[0.],\n",
              "         [1.],\n",
              "         [2.],\n",
              "         [3.],\n",
              "         [4.],\n",
              "         [5.],\n",
              "         [6.],\n",
              "         [7.],\n",
              "         [8.],\n",
              "         [9.]]),\n",
              " torch.Size([10, 1]))"
            ]
          },
          "metadata": {},
          "execution_count": 38
        }
      ]
    },
    {
      "cell_type": "code",
      "source": [
        "# changing z changes x because they share the same memory\n",
        "\n",
        "z[0,:] = 7\n",
        "z, x"
      ],
      "metadata": {
        "colab": {
          "base_uri": "https://localhost:8080/"
        },
        "id": "MjbUTeHFxBqV",
        "outputId": "e274df22-192f-45df-9d8e-4500aa54958b"
      },
      "execution_count": 39,
      "outputs": [
        {
          "output_type": "execute_result",
          "data": {
            "text/plain": [
              "(tensor([[7.],\n",
              "         [1.],\n",
              "         [2.],\n",
              "         [3.],\n",
              "         [4.],\n",
              "         [5.],\n",
              "         [6.],\n",
              "         [7.],\n",
              "         [8.],\n",
              "         [9.]]),\n",
              " tensor([[7., 1.],\n",
              "         [2., 3.],\n",
              "         [4., 5.],\n",
              "         [6., 7.],\n",
              "         [8., 9.]]))"
            ]
          },
          "metadata": {},
          "execution_count": 39
        }
      ]
    },
    {
      "cell_type": "code",
      "source": [
        "#Stack tensors on top of each other\n",
        "x_stacked = torch.stack([x,x,x], dim = 2)\n",
        "x_stacked\n"
      ],
      "metadata": {
        "colab": {
          "base_uri": "https://localhost:8080/"
        },
        "id": "XkZ8a0vTxex2",
        "outputId": "58d3b7c5-eed4-4d8b-c9ca-e0f5a95b97a3"
      },
      "execution_count": 40,
      "outputs": [
        {
          "output_type": "execute_result",
          "data": {
            "text/plain": [
              "tensor([[[7., 7., 7.],\n",
              "         [1., 1., 1.]],\n",
              "\n",
              "        [[2., 2., 2.],\n",
              "         [3., 3., 3.]],\n",
              "\n",
              "        [[4., 4., 4.],\n",
              "         [5., 5., 5.]],\n",
              "\n",
              "        [[6., 6., 6.],\n",
              "         [7., 7., 7.]],\n",
              "\n",
              "        [[8., 8., 8.],\n",
              "         [9., 9., 9.]]])"
            ]
          },
          "metadata": {},
          "execution_count": 40
        }
      ]
    },
    {
      "cell_type": "code",
      "source": [
        "from os import remove\n",
        "# torch.squeeze() removes all single dimensions from a tensor\n",
        "tensor = torch.rand((1,3,1,3))\n",
        "print(f\"previous tensor: {tensor}\")\n",
        "print(f\"\\nprevious tensor shape: {tensor.shape}\")\n",
        "\n",
        "#remove extra single dimensions from tensor\n",
        "squeezed_t = tensor.squeeze()\n",
        "print(f\"\\nSqueezed tensor: {squeezed_t}\")\n",
        "print(f\"\\n Squeeze tnesor shape: {squeezed_t.shape}\")"
      ],
      "metadata": {
        "colab": {
          "base_uri": "https://localhost:8080/"
        },
        "id": "6vgcKgUhzh6L",
        "outputId": "f846b3a9-68fe-4544-cef9-e1dc4a57dc39"
      },
      "execution_count": 41,
      "outputs": [
        {
          "output_type": "stream",
          "name": "stdout",
          "text": [
            "previous tensor: tensor([[[[0.4563, 0.6102, 0.2477]],\n",
            "\n",
            "         [[0.2880, 0.1393, 0.8948]],\n",
            "\n",
            "         [[0.4249, 0.6359, 0.9089]]]])\n",
            "\n",
            "previous tensor shape: torch.Size([1, 3, 1, 3])\n",
            "\n",
            "Squeezed tensor: tensor([[0.4563, 0.6102, 0.2477],\n",
            "        [0.2880, 0.1393, 0.8948],\n",
            "        [0.4249, 0.6359, 0.9089]])\n",
            "\n",
            " Squeeze tnesor shape: torch.Size([3, 3])\n"
          ]
        }
      ]
    },
    {
      "cell_type": "code",
      "source": [
        "#torch.unsqueeze() - adds a single dimension to a target tensor at a specific dim (dimension)\n",
        "print(f\"previous tensor: {squeezed_t}\")\n",
        "print(f\"\\nprevious tensor shape: {squeezed_t.shape}\")\n",
        "\n",
        "unsqueezed_t = squeezed_t.unsqueeze(dim=2)\n",
        "\n",
        "print(f\"\\nUnsqueezed tensor: {unsqueezed_t}\")\n",
        "print(f\"\\nUnsqueezed tensor shape: {unsqueezed_t.shape}\")\n"
      ],
      "metadata": {
        "colab": {
          "base_uri": "https://localhost:8080/"
        },
        "id": "1c3RGAOc4-LA",
        "outputId": "fa2e3571-040d-45a8-ef58-9c6e346460e1"
      },
      "execution_count": 42,
      "outputs": [
        {
          "output_type": "stream",
          "name": "stdout",
          "text": [
            "previous tensor: tensor([[0.4563, 0.6102, 0.2477],\n",
            "        [0.2880, 0.1393, 0.8948],\n",
            "        [0.4249, 0.6359, 0.9089]])\n",
            "\n",
            "previous tensor shape: torch.Size([3, 3])\n",
            "\n",
            "Unsqueezed tensor: tensor([[[0.4563],\n",
            "         [0.6102],\n",
            "         [0.2477]],\n",
            "\n",
            "        [[0.2880],\n",
            "         [0.1393],\n",
            "         [0.8948]],\n",
            "\n",
            "        [[0.4249],\n",
            "         [0.6359],\n",
            "         [0.9089]]])\n",
            "\n",
            "Unsqueezed tensor shape: torch.Size([3, 3, 1])\n"
          ]
        }
      ]
    },
    {
      "cell_type": "code",
      "source": [
        "# torch.permute - arranges the dimensions of a target tensor in a specified order\n",
        "x_original = torch.rand(640, 480,3) #[height, width, colour_channels]\n",
        "print(f\"Original shape: {x_original.shape}\")\n",
        "# Permute the original tensor to rearrange the axis (or dim) order\n",
        "\n",
        "x_permuted = torch.permute(x_original, (2,0,1))\n",
        "print(f\"\\nPermuted tensor shape: {x_permuted.shape}\") #now [colour_channels, height, width]\n",
        "# x_permuted is a different view of x_original so they share the same memory (check documentation)"
      ],
      "metadata": {
        "colab": {
          "base_uri": "https://localhost:8080/"
        },
        "id": "AmyoUHVS-JPf",
        "outputId": "bce52cef-64c0-42fc-e8f7-efe28200ac6f"
      },
      "execution_count": 43,
      "outputs": [
        {
          "output_type": "stream",
          "name": "stdout",
          "text": [
            "Original shape: torch.Size([640, 480, 3])\n",
            "\n",
            "Permuted tensor shape: torch.Size([3, 640, 480])\n"
          ]
        }
      ]
    },
    {
      "cell_type": "code",
      "source": [
        "#to show that x_permuted is a VIEW of x_original\n",
        "\n",
        "x_original[0,0,0] = 424242\n",
        "\n",
        "print(f\"first element of x_original: {x_original[0,0,0]}\")\n",
        "print(f\"\\nfirst element of x_permuted: {x_permuted[0,0,0]}\")"
      ],
      "metadata": {
        "colab": {
          "base_uri": "https://localhost:8080/"
        },
        "id": "xbvKXrb2AEr6",
        "outputId": "8f14e01b-48d4-468d-c5b0-e79f48ae7ffd"
      },
      "execution_count": 44,
      "outputs": [
        {
          "output_type": "stream",
          "name": "stdout",
          "text": [
            "first element of x_original: 424242.0\n",
            "\n",
            "first element of x_permuted: 424242.0\n"
          ]
        }
      ]
    },
    {
      "cell_type": "markdown",
      "source": [
        "# Indexing tensors\n",
        "similar to numpy\n",
        "\n"
      ],
      "metadata": {
        "id": "GZl3-tn9CdQU"
      }
    },
    {
      "cell_type": "code",
      "source": [
        "x = torch.arange(1,10)\n",
        "x = x.reshape(1,3,3)\n",
        "x, x.shape"
      ],
      "metadata": {
        "colab": {
          "base_uri": "https://localhost:8080/"
        },
        "id": "PgrCCc0XVSoE",
        "outputId": "71e84d87-f12c-4524-bd86-7277e35ba24b"
      },
      "execution_count": 45,
      "outputs": [
        {
          "output_type": "execute_result",
          "data": {
            "text/plain": [
              "(tensor([[[1, 2, 3],\n",
              "          [4, 5, 6],\n",
              "          [7, 8, 9]]]),\n",
              " torch.Size([1, 3, 3]))"
            ]
          },
          "metadata": {},
          "execution_count": 45
        }
      ]
    },
    {
      "cell_type": "code",
      "source": [
        "# Indexing on the new tensor\n",
        "x[0]"
      ],
      "metadata": {
        "colab": {
          "base_uri": "https://localhost:8080/"
        },
        "id": "exrheNiIVgGu",
        "outputId": "59095064-3b60-4923-cc49-463a9df6ce61"
      },
      "execution_count": 46,
      "outputs": [
        {
          "output_type": "execute_result",
          "data": {
            "text/plain": [
              "tensor([[1, 2, 3],\n",
              "        [4, 5, 6],\n",
              "        [7, 8, 9]])"
            ]
          },
          "metadata": {},
          "execution_count": 46
        }
      ]
    },
    {
      "cell_type": "code",
      "source": [
        "# Indexing on middle bracket (dim = 1)\n",
        "x[0][0], x[0,0]"
      ],
      "metadata": {
        "colab": {
          "base_uri": "https://localhost:8080/"
        },
        "id": "hfTZTU3pWVLP",
        "outputId": "fd64da14-a84a-4eaf-97df-ae11cd7ab45e"
      },
      "execution_count": 47,
      "outputs": [
        {
          "output_type": "execute_result",
          "data": {
            "text/plain": [
              "(tensor([1, 2, 3]), tensor([1, 2, 3]))"
            ]
          },
          "metadata": {},
          "execution_count": 47
        }
      ]
    },
    {
      "cell_type": "code",
      "source": [
        "# Indexing on inner most bracket (last dimension)\n",
        "x[0][2][-1], x[0,2,-1]"
      ],
      "metadata": {
        "colab": {
          "base_uri": "https://localhost:8080/"
        },
        "id": "khXP75I4WdOh",
        "outputId": "111b5ef0-0f3c-4189-f6d4-4f3d0373ca54"
      },
      "execution_count": 48,
      "outputs": [
        {
          "output_type": "execute_result",
          "data": {
            "text/plain": [
              "(tensor(9), tensor(9))"
            ]
          },
          "metadata": {},
          "execution_count": 48
        }
      ]
    },
    {
      "cell_type": "code",
      "source": [
        "# Can also use \":\" to select all of the target dimension\n",
        "#notice difference in indexing convention and result\n",
        "# x[:] just makes a shallow copy of the same tensor\n",
        "x[:,0], x[:][0]"
      ],
      "metadata": {
        "colab": {
          "base_uri": "https://localhost:8080/"
        },
        "id": "6oA_2yfNWtez",
        "outputId": "d6133db1-05b2-43f8-c9db-366a46242aaf"
      },
      "execution_count": 49,
      "outputs": [
        {
          "output_type": "execute_result",
          "data": {
            "text/plain": [
              "(tensor([[1, 2, 3]]),\n",
              " tensor([[1, 2, 3],\n",
              "         [4, 5, 6],\n",
              "         [7, 8, 9]]))"
            ]
          },
          "metadata": {},
          "execution_count": 49
        }
      ]
    },
    {
      "cell_type": "markdown",
      "source": [
        "✅ Why `x[:, 0`] is better:\n",
        "Clearer: It immediately shows you're slicing along specific dimensions.\n",
        "\n",
        "More efficient: PyTorch doesn't make an unnecessary shallow copy like it does with `x[:]`.\n",
        "\n",
        "Consistent with multi-dimensional slicing: You can easily expand this to 3D, 4D, etc., without confusion."
      ],
      "metadata": {
        "id": "x63DuDm7XO0X"
      }
    },
    {
      "cell_type": "code",
      "source": [
        "#more exmaples\n",
        "x[:,:,1]"
      ],
      "metadata": {
        "colab": {
          "base_uri": "https://localhost:8080/"
        },
        "id": "LfBLg40hZvGY",
        "outputId": "f3cf5b4b-8306-46cb-e3e1-46c8484e9c82"
      },
      "execution_count": 50,
      "outputs": [
        {
          "output_type": "execute_result",
          "data": {
            "text/plain": [
              "tensor([[2, 5, 8]])"
            ]
          },
          "metadata": {},
          "execution_count": 50
        }
      ]
    },
    {
      "cell_type": "code",
      "source": [
        "x[:,1,1]"
      ],
      "metadata": {
        "colab": {
          "base_uri": "https://localhost:8080/"
        },
        "id": "7cAc0phraGZ9",
        "outputId": "d08f7520-75ae-4f20-dc02-ffa2cf49cf81"
      },
      "execution_count": 51,
      "outputs": [
        {
          "output_type": "execute_result",
          "data": {
            "text/plain": [
              "tensor([5])"
            ]
          },
          "metadata": {},
          "execution_count": 51
        }
      ]
    },
    {
      "cell_type": "code",
      "source": [
        "x[0,0,:]"
      ],
      "metadata": {
        "colab": {
          "base_uri": "https://localhost:8080/"
        },
        "id": "xOgPhYUoaOzm",
        "outputId": "d5d39882-c764-4b59-944d-d55790e00c94"
      },
      "execution_count": 52,
      "outputs": [
        {
          "output_type": "execute_result",
          "data": {
            "text/plain": [
              "tensor([1, 2, 3])"
            ]
          },
          "metadata": {},
          "execution_count": 52
        }
      ]
    },
    {
      "cell_type": "code",
      "source": [
        "# indexing on x to return 9\n",
        "x[0,2,2], x[0,-1,-1]"
      ],
      "metadata": {
        "colab": {
          "base_uri": "https://localhost:8080/"
        },
        "id": "c2bS7OLIakYY",
        "outputId": "c04ce395-f299-4a89-cb5e-fb73a40ff8d2"
      },
      "execution_count": 53,
      "outputs": [
        {
          "output_type": "execute_result",
          "data": {
            "text/plain": [
              "(tensor(9), tensor(9))"
            ]
          },
          "metadata": {},
          "execution_count": 53
        }
      ]
    },
    {
      "cell_type": "code",
      "source": [
        "# index to return 3,6,9\n",
        "\n",
        "x[0,:,2]"
      ],
      "metadata": {
        "colab": {
          "base_uri": "https://localhost:8080/"
        },
        "id": "lOzuoP8NaxJa",
        "outputId": "b3ea22fb-d600-4797-9c0e-153797f2efdf"
      },
      "execution_count": 54,
      "outputs": [
        {
          "output_type": "execute_result",
          "data": {
            "text/plain": [
              "tensor([3, 6, 9])"
            ]
          },
          "metadata": {},
          "execution_count": 54
        }
      ]
    },
    {
      "cell_type": "markdown",
      "source": [
        "# Pytorch tensors and Numpy\n",
        "\n",
        "Pytorch has functionality to intereact with NumberType\n",
        "\n",
        "* Data in Numpy, want it in PyTorch tensor -> `torch.from_numpy(ndarray)`\n",
        "*PyTorch tensor -> Numpy -> `torch.Tensor.numpy()`\n"
      ],
      "metadata": {
        "id": "e-08rsGBbBTf"
      }
    },
    {
      "cell_type": "code",
      "source": [
        "import numpy as np\n",
        "\n",
        "array = np.arange(1.,10.)\n",
        "tensor = torch.from_numpy(array) #WARNING the ternsor will inherit the np.array data type\n",
        "\n",
        "array.dtype, tensor.dtype\n",
        "\n",
        "#can easily convert to float32\n"
      ],
      "metadata": {
        "colab": {
          "base_uri": "https://localhost:8080/"
        },
        "id": "o0Y4Bl2KbnRD",
        "outputId": "001a3e46-5154-451e-bec7-3b3edf4a15da"
      },
      "execution_count": 55,
      "outputs": [
        {
          "output_type": "execute_result",
          "data": {
            "text/plain": [
              "(dtype('float64'), torch.float64)"
            ]
          },
          "metadata": {},
          "execution_count": 55
        }
      ]
    },
    {
      "cell_type": "code",
      "source": [
        "#PyTorch defaults to float32\n",
        "pytrotch_dtype = torch.rand(1,3)\n",
        "pytrotch_dtype.dtype"
      ],
      "metadata": {
        "colab": {
          "base_uri": "https://localhost:8080/"
        },
        "id": "RUzFI3PCcP8D",
        "outputId": "830fc191-f260-4cec-8bf3-6f8c1edf4df3"
      },
      "execution_count": 56,
      "outputs": [
        {
          "output_type": "execute_result",
          "data": {
            "text/plain": [
              "torch.float32"
            ]
          },
          "metadata": {},
          "execution_count": 56
        }
      ]
    },
    {
      "cell_type": "code",
      "source": [
        "#Does changing array change the tensor?\n",
        "array = array + 1\n",
        "\n",
        "array, tensor\n",
        "\n",
        "#nope"
      ],
      "metadata": {
        "colab": {
          "base_uri": "https://localhost:8080/"
        },
        "id": "oenmC9aMc729",
        "outputId": "6087c3cc-ab8e-4320-f438-e546283f48e1"
      },
      "execution_count": 57,
      "outputs": [
        {
          "output_type": "execute_result",
          "data": {
            "text/plain": [
              "(array([ 2.,  3.,  4.,  5.,  6.,  7.,  8.,  9., 10.]),\n",
              " tensor([1., 2., 3., 4., 5., 6., 7., 8., 9.], dtype=torch.float64))"
            ]
          },
          "metadata": {},
          "execution_count": 57
        }
      ]
    },
    {
      "cell_type": "code",
      "source": [
        "# Tensor to Numpy array\n",
        "\n",
        "tensor = torch.ones(7)\n",
        "numpy_tensor = tensor.numpy()\n",
        "\n",
        "tensor, numpy_tensor"
      ],
      "metadata": {
        "colab": {
          "base_uri": "https://localhost:8080/"
        },
        "id": "U11jFC7XdNdi",
        "outputId": "f10a7d87-bf81-4415-d7bf-9e5aea7caf79"
      },
      "execution_count": 58,
      "outputs": [
        {
          "output_type": "execute_result",
          "data": {
            "text/plain": [
              "(tensor([1., 1., 1., 1., 1., 1., 1.]),\n",
              " array([1., 1., 1., 1., 1., 1., 1.], dtype=float32))"
            ]
          },
          "metadata": {},
          "execution_count": 58
        }
      ]
    },
    {
      "cell_type": "code",
      "source": [
        "# Does changing the tensor chage the array?\n",
        "\n",
        "tensor = tensor + 1\n",
        "\n",
        "tensor, numpy_tensor\n",
        "\n",
        "#nope"
      ],
      "metadata": {
        "colab": {
          "base_uri": "https://localhost:8080/"
        },
        "id": "fKXz8sgjdf5_",
        "outputId": "10c47fbb-e65a-4011-b1e7-a8913d15004a"
      },
      "execution_count": 59,
      "outputs": [
        {
          "output_type": "execute_result",
          "data": {
            "text/plain": [
              "(tensor([2., 2., 2., 2., 2., 2., 2.]),\n",
              " array([1., 1., 1., 1., 1., 1., 1.], dtype=float32))"
            ]
          },
          "metadata": {},
          "execution_count": 59
        }
      ]
    },
    {
      "cell_type": "markdown",
      "source": [
        "# Reproducubulity (removing the randomness)"
      ],
      "metadata": {
        "id": "WnoiuEC2dsZA"
      }
    },
    {
      "cell_type": "code",
      "source": [
        "rand_tensor_A = torch.rand(3,4)\n",
        "rand_tensor_B = torch.rand(3,4)\n",
        "\n",
        "#comparing the two showing all numbers are random\n",
        "print(rand_tensor_A == rand_tensor_B)"
      ],
      "metadata": {
        "colab": {
          "base_uri": "https://localhost:8080/"
        },
        "id": "XYwBL3PWu5B0",
        "outputId": "1a7aa2a6-4312-46aa-d680-0344731ce335"
      },
      "execution_count": 60,
      "outputs": [
        {
          "output_type": "stream",
          "name": "stdout",
          "text": [
            "tensor([[False, False, False, False],\n",
            "        [False, False, False, False],\n",
            "        [False, False, False, False]])\n"
          ]
        }
      ]
    },
    {
      "cell_type": "code",
      "source": [
        "RANDOM_SEED = 42\n",
        "\n",
        "torch.manual_seed(RANDOM_SEED)\n",
        "rand_tensor_C = torch.rand(3,4)\n",
        "\n",
        "torch.manual_seed(RANDOM_SEED) #Set it before every instance of rand\n",
        "rand_tensor_D = torch.rand(3,4)\n",
        "\n",
        "print(rand_tensor_C)\n",
        "print(rand_tensor_D)\n",
        "print(rand_tensor_C == rand_tensor_D)"
      ],
      "metadata": {
        "colab": {
          "base_uri": "https://localhost:8080/"
        },
        "id": "kMe_TSSRvEDs",
        "outputId": "78379a42-b3aa-46a2-8950-ec9a114c9331"
      },
      "execution_count": 61,
      "outputs": [
        {
          "output_type": "stream",
          "name": "stdout",
          "text": [
            "tensor([[0.8823, 0.9150, 0.3829, 0.9593],\n",
            "        [0.3904, 0.6009, 0.2566, 0.7936],\n",
            "        [0.9408, 0.1332, 0.9346, 0.5936]])\n",
            "tensor([[0.8823, 0.9150, 0.3829, 0.9593],\n",
            "        [0.3904, 0.6009, 0.2566, 0.7936],\n",
            "        [0.9408, 0.1332, 0.9346, 0.5936]])\n",
            "tensor([[True, True, True, True],\n",
            "        [True, True, True, True],\n",
            "        [True, True, True, True]])\n"
          ]
        }
      ]
    },
    {
      "cell_type": "markdown",
      "source": [
        "# Using GPUs"
      ],
      "metadata": {
        "id": "X--ZxcWHzt5i"
      }
    },
    {
      "cell_type": "code",
      "source": [
        "# use command to check GPU info\n",
        "!nvidia-smi"
      ],
      "metadata": {
        "colab": {
          "base_uri": "https://localhost:8080/"
        },
        "id": "ZOnvtbCdvwr7",
        "outputId": "281ba8d1-2ad2-4869-ca8d-a5fb3cd550eb"
      },
      "execution_count": 62,
      "outputs": [
        {
          "output_type": "stream",
          "name": "stdout",
          "text": [
            "Sun Apr 13 19:20:39 2025       \n",
            "+-----------------------------------------------------------------------------------------+\n",
            "| NVIDIA-SMI 550.54.15              Driver Version: 550.54.15      CUDA Version: 12.4     |\n",
            "|-----------------------------------------+------------------------+----------------------+\n",
            "| GPU  Name                 Persistence-M | Bus-Id          Disp.A | Volatile Uncorr. ECC |\n",
            "| Fan  Temp   Perf          Pwr:Usage/Cap |           Memory-Usage | GPU-Util  Compute M. |\n",
            "|                                         |                        |               MIG M. |\n",
            "|=========================================+========================+======================|\n",
            "|   0  Tesla T4                       Off |   00000000:00:04.0 Off |                    0 |\n",
            "| N/A   45C    P8              9W /   70W |       0MiB /  15360MiB |      0%      Default |\n",
            "|                                         |                        |                  N/A |\n",
            "+-----------------------------------------+------------------------+----------------------+\n",
            "                                                                                         \n",
            "+-----------------------------------------------------------------------------------------+\n",
            "| Processes:                                                                              |\n",
            "|  GPU   GI   CI        PID   Type   Process name                              GPU Memory |\n",
            "|        ID   ID                                                               Usage      |\n",
            "|=========================================================================================|\n",
            "|  No running processes found                                                             |\n",
            "+-----------------------------------------------------------------------------------------+\n"
          ]
        }
      ]
    },
    {
      "cell_type": "markdown",
      "source": [
        "## 2. Check for GPU access with PyTorch"
      ],
      "metadata": {
        "id": "3nI9uxZ_0aZw"
      }
    },
    {
      "cell_type": "code",
      "source": [
        "# Check for GPU access with PyTorch\n",
        "torch.cuda.is_available()"
      ],
      "metadata": {
        "colab": {
          "base_uri": "https://localhost:8080/"
        },
        "id": "vQMOEfU3x8NJ",
        "outputId": "d60e9748-5971-48ff-96b5-5b6af4fd868f"
      },
      "execution_count": 63,
      "outputs": [
        {
          "output_type": "execute_result",
          "data": {
            "text/plain": [
              "True"
            ]
          },
          "metadata": {},
          "execution_count": 63
        }
      ]
    },
    {
      "cell_type": "markdown",
      "source": [
        "# Setup device agnostic code\n",
        "\n",
        "Since PyTorch is capable of running on GPU or CPU, it's best practice to setup device agnostic code.\n",
        "\n",
        "E.g run on GPU if available, else dafault to CPU.\n",
        "\n",
        "https://pytorch.org/docs/stable/notes/cuda.html"
      ],
      "metadata": {
        "id": "yrbdIzPv0lzd"
      }
    },
    {
      "cell_type": "code",
      "source": [
        "# Setup device agnostic code\n",
        "device = \"cuda\" if torch.cuda.is_available() else \"cpu\"\n",
        "device"
      ],
      "metadata": {
        "colab": {
          "base_uri": "https://localhost:8080/",
          "height": 36
        },
        "id": "isdBT8s6z2l5",
        "outputId": "33f622ff-f51a-4079-e439-ceeeb36a0a53"
      },
      "execution_count": 64,
      "outputs": [
        {
          "output_type": "execute_result",
          "data": {
            "text/plain": [
              "'cuda'"
            ],
            "application/vnd.google.colaboratory.intrinsic+json": {
              "type": "string"
            }
          },
          "metadata": {},
          "execution_count": 64
        }
      ]
    },
    {
      "cell_type": "code",
      "source": [
        "# Count number of devices\n",
        "torch.cuda.device_count()"
      ],
      "metadata": {
        "colab": {
          "base_uri": "https://localhost:8080/"
        },
        "id": "mi3sG58w1gZg",
        "outputId": "8c1ceca2-9d15-489a-f1db-ef9340aa48cf"
      },
      "execution_count": 65,
      "outputs": [
        {
          "output_type": "execute_result",
          "data": {
            "text/plain": [
              "1"
            ]
          },
          "metadata": {},
          "execution_count": 65
        }
      ]
    },
    {
      "cell_type": "markdown",
      "source": [
        "## 3. Putting tensors (and models) on the GPU\n",
        "GPU results in faster computations"
      ],
      "metadata": {
        "id": "j-fmITnu1lDe"
      }
    },
    {
      "cell_type": "code",
      "source": [
        "# Create a tensor (default on the CPU)\n",
        "tensor = torch.tensor([1,2,3])\n",
        "\n",
        "#Tensor not on GPU\n",
        "print(tensor, tensor.device)"
      ],
      "metadata": {
        "colab": {
          "base_uri": "https://localhost:8080/"
        },
        "id": "RIFT8_V72kx6",
        "outputId": "79496826-2d99-40ef-b7f3-247801c7d901"
      },
      "execution_count": 66,
      "outputs": [
        {
          "output_type": "stream",
          "name": "stdout",
          "text": [
            "tensor([1, 2, 3]) cpu\n"
          ]
        }
      ]
    },
    {
      "cell_type": "code",
      "source": [
        "# Move tensor to GPU (if available)\n",
        "tensor_on_gpu = tensor.to(device)\n",
        "tensor_on_gpu"
      ],
      "metadata": {
        "colab": {
          "base_uri": "https://localhost:8080/"
        },
        "id": "JRf_EazJ2v3j",
        "outputId": "92e76e76-41bf-46f0-c0dc-c3e48d85cd9a"
      },
      "execution_count": 67,
      "outputs": [
        {
          "output_type": "execute_result",
          "data": {
            "text/plain": [
              "tensor([1, 2, 3], device='cuda:0')"
            ]
          },
          "metadata": {},
          "execution_count": 67
        }
      ]
    },
    {
      "cell_type": "markdown",
      "source": [
        "## 4. Moving tensors back to CPU"
      ],
      "metadata": {
        "id": "PLFerNPamIGI"
      }
    },
    {
      "cell_type": "code",
      "source": [
        "# If tensor is on GPU, can't transform it to Numpy\n",
        "#tensor_on_gpu.numpy() will give\n",
        "#\"TypeError: can't convert cuda:0 device type tensor to numpy. Use Tensor.cpu() to copy the tensor to host memory first.\""
      ],
      "metadata": {
        "id": "7ailpPimmkLE"
      },
      "execution_count": 76,
      "outputs": []
    },
    {
      "cell_type": "code",
      "source": [
        "#changes it to cpu and then to numpy\n",
        "tensor_back_to_cpu = tensor_on_gpu.cpu().numpy()\n",
        "tensor_back_to_cpu"
      ],
      "metadata": {
        "colab": {
          "base_uri": "https://localhost:8080/"
        },
        "id": "bODUkNrJnQ5g",
        "outputId": "23334648-6a72-434a-d315-b32d5175184b"
      },
      "execution_count": 74,
      "outputs": [
        {
          "output_type": "execute_result",
          "data": {
            "text/plain": [
              "array([1, 2, 3])"
            ]
          },
          "metadata": {},
          "execution_count": 74
        }
      ]
    },
    {
      "cell_type": "code",
      "source": [
        "#we reasigned the variable only so a copy exists\n",
        "tensor_on_gpu"
      ],
      "metadata": {
        "colab": {
          "base_uri": "https://localhost:8080/"
        },
        "id": "xIQVmfm4ng0Q",
        "outputId": "80336212-0b14-468d-c6df-82925cfe8090"
      },
      "execution_count": 75,
      "outputs": [
        {
          "output_type": "execute_result",
          "data": {
            "text/plain": [
              "tensor([1, 2, 3], device='cuda:0')"
            ]
          },
          "metadata": {},
          "execution_count": 75
        }
      ]
    },
    {
      "cell_type": "code",
      "source": [],
      "metadata": {
        "id": "nENdTBASn69F"
      },
      "execution_count": null,
      "outputs": []
    }
  ]
}