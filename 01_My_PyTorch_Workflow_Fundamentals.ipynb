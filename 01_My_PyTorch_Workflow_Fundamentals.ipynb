{
  "nbformat": 4,
  "nbformat_minor": 0,
  "metadata": {
    "colab": {
      "provenance": [],
      "authorship_tag": "ABX9TyNYfo/Qo4rqlKfTlt59roya"
    },
    "kernelspec": {
      "name": "python3",
      "display_name": "Python 3"
    },
    "language_info": {
      "name": "python"
    }
  },
  "cells": [
    {
      "cell_type": "markdown",
      "source": [
        "# PyTorch Workflow\n",
        "\n",
        "Exploring an end-to-end PyTorch workflow.\n",
        "\n",
        "I utilise the following resources:\n",
        "\n",
        "1. https://github.com/mrdbourke/pytorch-deep-learning/blob/main/01_pytorch_workflow.ipynb\n",
        "2. https://www.learnpytorch.io/01_pytorch_workflow/"
      ],
      "metadata": {
        "id": "XiznDFgpuG4r"
      }
    },
    {
      "cell_type": "markdown",
      "source": [
        "<img src=\"https://raw.githubusercontent.com/mrdbourke/pytorch-deep-learning/main/images/01_a_pytorch_workflow.png\" width=900 alt=\"a pytorch workflow flowchat\"/>"
      ],
      "metadata": {
        "id": "nj_ulBojzGB4"
      }
    },
    {
      "cell_type": "code",
      "source": [
        "import torch\n",
        "from torch import nn # PyTorch's building blocks https://pytorch.org/docs/stable/nn.html\n",
        "import matplotlib.pyplot as plt\n",
        "import numpy as np\n",
        "\n",
        "# PyTorch Version\n",
        "torch.__version__"
      ],
      "metadata": {
        "colab": {
          "base_uri": "https://localhost:8080/",
          "height": 36
        },
        "id": "WZ4psqbZwnCX",
        "outputId": "3dac59d3-0589-4a5b-c5f2-c6486fda4776"
      },
      "execution_count": null,
      "outputs": [
        {
          "output_type": "execute_result",
          "data": {
            "text/plain": [
              "'2.6.0+cu124'"
            ],
            "application/vnd.google.colaboratory.intrinsic+json": {
              "type": "string"
            }
          },
          "metadata": {},
          "execution_count": 2
        }
      ]
    },
    {
      "cell_type": "markdown",
      "source": [
        "## 1. Data (preparing and loading).\n",
        "\n",
        "Two main ideas are:\n",
        "1. Get data into a numerical representation.\n",
        "2. Build a model to learn patterns in that numerical representation."
      ],
      "metadata": {
        "id": "NeSn0vjhx7MC"
      }
    },
    {
      "cell_type": "markdown",
      "source": [
        "<img src=https://raw.githubusercontent.com/mrdbourke/pytorch-deep-learning/main/images/01-machine-learning-a-game-of-two-parts.png\n",
        "width=900 alt=\"a game of 2 parts\"/>"
      ],
      "metadata": {
        "id": "eGx9IEgJzICc"
      }
    },
    {
      "cell_type": "markdown",
      "source": [
        "To showcase these steps we can generate some dummy data using the linear regression formula.\n",
        "\n",
        "Using linear regressuion we'll make a stright line with known **parameters**.\n"
      ],
      "metadata": {
        "id": "DbZFPbhVztvN"
      }
    },
    {
      "cell_type": "code",
      "source": [
        "# Creating known parameters\n",
        "\n",
        "bias = 0.3\n",
        "weight = 0.7\n",
        "\n",
        "start = 0\n",
        "end = 1\n",
        "step = 0.02\n",
        "\n",
        "X = torch.arange(start, end, step).unsqueeze(dim=1) #the unsqueeze is important later for model building\n",
        "\n",
        "y = weight*X + bias\n",
        "\n",
        "X, y"
      ],
      "metadata": {
        "colab": {
          "base_uri": "https://localhost:8080/"
        },
        "id": "msJ8e-3uy-2I",
        "outputId": "08566586-07da-4958-96db-9a25eb9fa2be",
        "collapsed": true
      },
      "execution_count": null,
      "outputs": [
        {
          "output_type": "execute_result",
          "data": {
            "text/plain": [
              "(tensor([[0.0000],\n",
              "         [0.0200],\n",
              "         [0.0400],\n",
              "         [0.0600],\n",
              "         [0.0800],\n",
              "         [0.1000],\n",
              "         [0.1200],\n",
              "         [0.1400],\n",
              "         [0.1600],\n",
              "         [0.1800],\n",
              "         [0.2000],\n",
              "         [0.2200],\n",
              "         [0.2400],\n",
              "         [0.2600],\n",
              "         [0.2800],\n",
              "         [0.3000],\n",
              "         [0.3200],\n",
              "         [0.3400],\n",
              "         [0.3600],\n",
              "         [0.3800],\n",
              "         [0.4000],\n",
              "         [0.4200],\n",
              "         [0.4400],\n",
              "         [0.4600],\n",
              "         [0.4800],\n",
              "         [0.5000],\n",
              "         [0.5200],\n",
              "         [0.5400],\n",
              "         [0.5600],\n",
              "         [0.5800],\n",
              "         [0.6000],\n",
              "         [0.6200],\n",
              "         [0.6400],\n",
              "         [0.6600],\n",
              "         [0.6800],\n",
              "         [0.7000],\n",
              "         [0.7200],\n",
              "         [0.7400],\n",
              "         [0.7600],\n",
              "         [0.7800],\n",
              "         [0.8000],\n",
              "         [0.8200],\n",
              "         [0.8400],\n",
              "         [0.8600],\n",
              "         [0.8800],\n",
              "         [0.9000],\n",
              "         [0.9200],\n",
              "         [0.9400],\n",
              "         [0.9600],\n",
              "         [0.9800]]),\n",
              " tensor([[0.3000],\n",
              "         [0.3140],\n",
              "         [0.3280],\n",
              "         [0.3420],\n",
              "         [0.3560],\n",
              "         [0.3700],\n",
              "         [0.3840],\n",
              "         [0.3980],\n",
              "         [0.4120],\n",
              "         [0.4260],\n",
              "         [0.4400],\n",
              "         [0.4540],\n",
              "         [0.4680],\n",
              "         [0.4820],\n",
              "         [0.4960],\n",
              "         [0.5100],\n",
              "         [0.5240],\n",
              "         [0.5380],\n",
              "         [0.5520],\n",
              "         [0.5660],\n",
              "         [0.5800],\n",
              "         [0.5940],\n",
              "         [0.6080],\n",
              "         [0.6220],\n",
              "         [0.6360],\n",
              "         [0.6500],\n",
              "         [0.6640],\n",
              "         [0.6780],\n",
              "         [0.6920],\n",
              "         [0.7060],\n",
              "         [0.7200],\n",
              "         [0.7340],\n",
              "         [0.7480],\n",
              "         [0.7620],\n",
              "         [0.7760],\n",
              "         [0.7900],\n",
              "         [0.8040],\n",
              "         [0.8180],\n",
              "         [0.8320],\n",
              "         [0.8460],\n",
              "         [0.8600],\n",
              "         [0.8740],\n",
              "         [0.8880],\n",
              "         [0.9020],\n",
              "         [0.9160],\n",
              "         [0.9300],\n",
              "         [0.9440],\n",
              "         [0.9580],\n",
              "         [0.9720],\n",
              "         [0.9860]]))"
            ]
          },
          "metadata": {},
          "execution_count": 3
        }
      ]
    },
    {
      "cell_type": "markdown",
      "source": [
        "### Splitting data into training and testing set\n",
        "creating a training and test set with our data."
      ],
      "metadata": {
        "id": "ys3RLyB24eC0"
      }
    },
    {
      "cell_type": "code",
      "source": [
        "# Create a test/train split\n",
        "train_split = int(0.8 * len(X))\n",
        "\n",
        "X_train, y_train = X[:train_split], y[:train_split]\n",
        "X_test, y_test = X[train_split:], y[train_split:]"
      ],
      "metadata": {
        "id": "3HfANG6xfV7W"
      },
      "execution_count": null,
      "outputs": []
    },
    {
      "cell_type": "code",
      "source": [
        "len(X_train), len(y_train), len(X_test), len(y_test)"
      ],
      "metadata": {
        "colab": {
          "base_uri": "https://localhost:8080/"
        },
        "id": "YM65YHA1hDTv",
        "outputId": "ef7e25ba-0282-40a2-d1f1-9dbca782c902"
      },
      "execution_count": null,
      "outputs": [
        {
          "output_type": "execute_result",
          "data": {
            "text/plain": [
              "(40, 40, 10, 10)"
            ]
          },
          "metadata": {},
          "execution_count": 5
        }
      ]
    },
    {
      "cell_type": "markdown",
      "source": [
        "### Visualising"
      ],
      "metadata": {
        "id": "gvMj7wfYkapG"
      }
    },
    {
      "cell_type": "code",
      "source": [
        "def plot_predictions(train_data = X_train, train_label = y_train,\n",
        "                     test_data = X_test, test_label = y_test,\n",
        "                     predictions = None):\n",
        "  \"\"\" Plots the train/test data and compares predictions. Outputs 1 Graph. \"\"\"\n",
        "\n",
        "  #Plot training data\n",
        "  plt.scatter(train_data, train_label, c= \"b\", s = 4, label = \"Training Data\")\n",
        "\n",
        "  #Plot testing data\n",
        "  plt.scatter(X_test, y_test, c=\"g\", s=4, label = \"Testing Data\")\n",
        "\n",
        "  if predictions is not None:\n",
        "    plt.scatter(test_data, predictions, c = \"r\", s=4, label = \"Predictions\")\n",
        "\n",
        "  #Show Legend\n",
        "  plt.legend(prop={\"size\": 14})"
      ],
      "metadata": {
        "id": "kUPCXV8-0iZU"
      },
      "execution_count": null,
      "outputs": []
    },
    {
      "cell_type": "code",
      "source": [
        "plot_predictions()"
      ],
      "metadata": {
        "colab": {
          "base_uri": "https://localhost:8080/",
          "height": 430
        },
        "id": "qh9rR3d83sai",
        "outputId": "a220e0b4-f5e4-497e-eea2-030dc7264c0f"
      },
      "execution_count": null,
      "outputs": [
        {
          "output_type": "display_data",
          "data": {
            "text/plain": [
              "<Figure size 640x480 with 1 Axes>"
            ],
            "image/png": "[encoded data removed]"
          },
          "metadata": {}
        }
      ]
    },
    {
      "cell_type": "markdown",
      "source": [
        "## 2. Build Model\n",
        "First PyTorch Model"
      ],
      "metadata": {
        "id": "YpS208rJ3xj6"
      }
    },
    {
      "cell_type": "code",
      "source": [
        "class LinearRegressionModel(nn.Module): #inherits from nn.Module\n",
        "  def __innit__(self):\n",
        "    super().__innit__()\n",
        "    self.weights = nn.Parameter(torch.rand(1,\n",
        "                              requires_grad = True,\n",
        "                              dtype = torch.float))\n",
        "\n",
        "    self.bias = nn.Parameter(torch.rand(1,\n",
        "                           requires_grad= True,\n",
        "                           dtype = torch.float))\n",
        "    # Forward method\n",
        "    def forward(self, x: torch.Tensor) -> torch.tensor: # <- \"x\" is the input data\n",
        "      return self.weights*x + self.bias #this is the linear regression formula\n",
        "\n",
        "\n"
      ],
      "metadata": {
        "id": "KsGKrJGY5DQD"
      },
      "execution_count": null,
      "outputs": []
    },
    {
      "cell_type": "code",
      "source": [],
      "metadata": {
        "id": "j-VyUMtXlhNN"
      },
      "execution_count": null,
      "outputs": []
    }
  ]
}