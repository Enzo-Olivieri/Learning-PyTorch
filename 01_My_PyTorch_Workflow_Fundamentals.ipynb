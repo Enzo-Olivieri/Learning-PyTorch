{
  "nbformat": 4,
  "nbformat_minor": 0,
  "metadata": {
    "colab": {
      "provenance": [],
      "authorship_tag": "ABX9TyOZfQR3KmfZ4NQureExc1Wm"
    },
    "kernelspec": {
      "name": "python3",
      "display_name": "Python 3"
    },
    "language_info": {
      "name": "python"
    }
  },
  "cells": [
    {
      "cell_type": "markdown",
      "source": [
        "# PyTorch Workflow\n",
        "\n",
        "Exploring an end-to-end PyTorch workflow.\n",
        "\n",
        "I utilise the following resources:\n",
        "\n",
        "1. https://github.com/mrdbourke/pytorch-deep-learning/blob/main/01_pytorch_workflow.ipynb\n",
        "2. https://www.learnpytorch.io/01_pytorch_workflow/"
      ],
      "metadata": {
        "id": "XiznDFgpuG4r"
      }
    },
    {
      "cell_type": "markdown",
      "source": [
        "<img src=\"https://raw.githubusercontent.com/mrdbourke/pytorch-deep-learning/main/images/01_a_pytorch_workflow.png\" width=900 alt=\"a pytorch workflow flowchat\"/>"
      ],
      "metadata": {
        "id": "nj_ulBojzGB4"
      }
    },
    {
      "cell_type": "code",
      "source": [
        "import torch\n",
        "from torch import nn # PyTorch's building blocks https://pytorch.org/docs/stable/nn.html\n",
        "import matplotlib.pyplot as plt\n",
        "import numpy as np\n",
        "\n",
        "# PyTorch Version\n",
        "torch.__version__"
      ],
      "metadata": {
        "colab": {
          "base_uri": "https://localhost:8080/",
          "height": 36
        },
        "id": "WZ4psqbZwnCX",
        "outputId": "fae735e7-801e-4eb6-fef7-0e9bcd41a987"
      },
      "execution_count": null,
      "outputs": [
        {
          "output_type": "execute_result",
          "data": {
            "text/plain": [
              "'2.6.0+cu124'"
            ],
            "application/vnd.google.colaboratory.intrinsic+json": {
              "type": "string"
            }
          },
          "metadata": {},
          "execution_count": 1
        }
      ]
    },
    {
      "cell_type": "markdown",
      "source": [
        "## 1. Data (preparing and loading).\n",
        "\n",
        "Two main ideas are:\n",
        "1. Get data into a numerical representation.\n",
        "2. Build a model to learn patterns in that numerical representation."
      ],
      "metadata": {
        "id": "NeSn0vjhx7MC"
      }
    },
    {
      "cell_type": "markdown",
      "source": [
        "<img src=https://raw.githubusercontent.com/mrdbourke/pytorch-deep-learning/main/images/01-machine-learning-a-game-of-two-parts.png\n",
        "width=900 alt=\"a game of 2 parts\"/>"
      ],
      "metadata": {
        "id": "eGx9IEgJzICc"
      }
    },
    {
      "cell_type": "markdown",
      "source": [
        "To showcase these steps we can generate some dummy data using the linear regression formula.\n",
        "\n",
        "Using linear regressuion we'll make a stright line with known **parameters**.\n"
      ],
      "metadata": {
        "id": "DbZFPbhVztvN"
      }
    },
    {
      "cell_type": "code",
      "source": [
        "# Creating known parameters\n",
        "\n",
        "bias = 0.3\n",
        "weight = 0.7\n",
        "\n",
        "start = 0\n",
        "end = 1\n",
        "step = 0.02\n",
        "\n",
        "X = torch.arange(start, end, step).unsqueeze(dim=1) #the unsqueeze is important later for model building\n",
        "\n",
        "y = weight*X + bias\n",
        "\n",
        "X, y"
      ],
      "metadata": {
        "colab": {
          "base_uri": "https://localhost:8080/"
        },
        "id": "msJ8e-3uy-2I",
        "outputId": "bd3b00c6-c00f-49d9-8a99-22e3a5d94be7",
        "collapsed": true
      },
      "execution_count": null,
      "outputs": [
        {
          "output_type": "execute_result",
          "data": {
            "text/plain": [
              "(tensor([[0.0000],\n",
              "         [0.0200],\n",
              "         [0.0400],\n",
              "         [0.0600],\n",
              "         [0.0800],\n",
              "         [0.1000],\n",
              "         [0.1200],\n",
              "         [0.1400],\n",
              "         [0.1600],\n",
              "         [0.1800],\n",
              "         [0.2000],\n",
              "         [0.2200],\n",
              "         [0.2400],\n",
              "         [0.2600],\n",
              "         [0.2800],\n",
              "         [0.3000],\n",
              "         [0.3200],\n",
              "         [0.3400],\n",
              "         [0.3600],\n",
              "         [0.3800],\n",
              "         [0.4000],\n",
              "         [0.4200],\n",
              "         [0.4400],\n",
              "         [0.4600],\n",
              "         [0.4800],\n",
              "         [0.5000],\n",
              "         [0.5200],\n",
              "         [0.5400],\n",
              "         [0.5600],\n",
              "         [0.5800],\n",
              "         [0.6000],\n",
              "         [0.6200],\n",
              "         [0.6400],\n",
              "         [0.6600],\n",
              "         [0.6800],\n",
              "         [0.7000],\n",
              "         [0.7200],\n",
              "         [0.7400],\n",
              "         [0.7600],\n",
              "         [0.7800],\n",
              "         [0.8000],\n",
              "         [0.8200],\n",
              "         [0.8400],\n",
              "         [0.8600],\n",
              "         [0.8800],\n",
              "         [0.9000],\n",
              "         [0.9200],\n",
              "         [0.9400],\n",
              "         [0.9600],\n",
              "         [0.9800]]),\n",
              " tensor([[0.3000],\n",
              "         [0.3140],\n",
              "         [0.3280],\n",
              "         [0.3420],\n",
              "         [0.3560],\n",
              "         [0.3700],\n",
              "         [0.3840],\n",
              "         [0.3980],\n",
              "         [0.4120],\n",
              "         [0.4260],\n",
              "         [0.4400],\n",
              "         [0.4540],\n",
              "         [0.4680],\n",
              "         [0.4820],\n",
              "         [0.4960],\n",
              "         [0.5100],\n",
              "         [0.5240],\n",
              "         [0.5380],\n",
              "         [0.5520],\n",
              "         [0.5660],\n",
              "         [0.5800],\n",
              "         [0.5940],\n",
              "         [0.6080],\n",
              "         [0.6220],\n",
              "         [0.6360],\n",
              "         [0.6500],\n",
              "         [0.6640],\n",
              "         [0.6780],\n",
              "         [0.6920],\n",
              "         [0.7060],\n",
              "         [0.7200],\n",
              "         [0.7340],\n",
              "         [0.7480],\n",
              "         [0.7620],\n",
              "         [0.7760],\n",
              "         [0.7900],\n",
              "         [0.8040],\n",
              "         [0.8180],\n",
              "         [0.8320],\n",
              "         [0.8460],\n",
              "         [0.8600],\n",
              "         [0.8740],\n",
              "         [0.8880],\n",
              "         [0.9020],\n",
              "         [0.9160],\n",
              "         [0.9300],\n",
              "         [0.9440],\n",
              "         [0.9580],\n",
              "         [0.9720],\n",
              "         [0.9860]]))"
            ]
          },
          "metadata": {},
          "execution_count": 2
        }
      ]
    },
    {
      "cell_type": "markdown",
      "source": [
        "### Splitting data into training and testing set\n",
        "creating a training and test set with our data."
      ],
      "metadata": {
        "id": "ys3RLyB24eC0"
      }
    },
    {
      "cell_type": "code",
      "source": [
        "# Create a test/train split\n",
        "train_split = int(0.8 * len(X))\n",
        "\n",
        "X_train, y_train = X[:train_split], y[:train_split]\n",
        "X_test, y_test = X[train_split:], y[train_split:]"
      ],
      "metadata": {
        "id": "3HfANG6xfV7W"
      },
      "execution_count": null,
      "outputs": []
    },
    {
      "cell_type": "code",
      "source": [
        "len(X_train), len(y_train), len(X_test), len(y_test)"
      ],
      "metadata": {
        "colab": {
          "base_uri": "https://localhost:8080/"
        },
        "id": "YM65YHA1hDTv",
        "outputId": "78e0132d-4d56-4751-d427-2ba46b31d11d"
      },
      "execution_count": null,
      "outputs": [
        {
          "output_type": "execute_result",
          "data": {
            "text/plain": [
              "(40, 40, 10, 10)"
            ]
          },
          "metadata": {},
          "execution_count": 4
        }
      ]
    },
    {
      "cell_type": "markdown",
      "source": [
        "### Visualising"
      ],
      "metadata": {
        "id": "gvMj7wfYkapG"
      }
    },
    {
      "cell_type": "code",
      "source": [
        "def plot_predictions(train_data = X_train, train_label = y_train,\n",
        "                     test_data = X_test, test_label = y_test,\n",
        "                     predictions = None):\n",
        "  \"\"\" Plots the train/test data and compares predictions. Outputs 1 Graph. \"\"\"\n",
        "\n",
        "  #Plot training data\n",
        "  plt.scatter(train_data, train_label, c= \"b\", s = 4, label = \"Training Data\")\n",
        "\n",
        "  #Plot testing data\n",
        "  plt.scatter(X_test, y_test, c=\"g\", s=4, label = \"Testing Data\")\n",
        "\n",
        "  if predictions is not None:\n",
        "    plt.scatter(test_data, predictions, c = \"r\", s=4, label = \"Predictions\")\n",
        "\n",
        "  #Show Legend\n",
        "  plt.legend(prop={\"size\": 14})"
      ],
      "metadata": {
        "id": "kUPCXV8-0iZU"
      },
      "execution_count": null,
      "outputs": []
    },
    {
      "cell_type": "code",
      "source": [
        "plot_predictions()"
      ],
      "metadata": {
        "colab": {
          "base_uri": "https://localhost:8080/"
        },
        "id": "qh9rR3d83sai",
        "outputId": "69346649-d2b3-4279-b546-8054b57eca25"
      },
      "execution_count": null,
      "outputs": [
        {
          "output_type": "display_data",
          "data": {
            "text/plain": [
              "<Figure size 640x480 with 1 Axes>"
            ],
            "image/png": "[encoded data removed]"
          },
          "metadata": {}
        }
      ]
    },
    {
      "cell_type": "markdown",
      "source": [
        "## 2. Build Model\n",
        "First PyTorch Model"
      ],
      "metadata": {
        "id": "YpS208rJ3xj6"
      }
    },
    {
      "cell_type": "code",
      "source": [
        "class LinearRegressionModel(nn.Module): #inherits from nn.Module\n",
        "  def __init__(self):\n",
        "    super().__init__()\n",
        "    self.weights = nn.Parameter(torch.rand(1,\n",
        "                              requires_grad = True,\n",
        "                              dtype = torch.float))\n",
        "\n",
        "    self.bias = nn.Parameter(torch.rand(1,\n",
        "                           requires_grad= True,\n",
        "                           dtype = torch.float))\n",
        "    # Forward method\n",
        "  def forward(self, x: torch.Tensor) -> torch.tensor: # <- \"x\" is the input data\n",
        "    return self.weights*x + self.bias #this is the linear regression formula\n",
        "\n",
        "\n"
      ],
      "metadata": {
        "id": "KsGKrJGY5DQD"
      },
      "execution_count": null,
      "outputs": []
    },
    {
      "cell_type": "markdown",
      "source": [
        "###Checking the contents of the PyTorch model\n",
        "\n",
        "We can check our model parameters using `.parameters()`"
      ],
      "metadata": {
        "id": "j-VyUMtXlhNN"
      }
    },
    {
      "cell_type": "code",
      "source": [
        "# Creating random seed\n",
        "#torch.manual_seed(42)\n",
        "\n",
        "# Creating an instance of the model (this is a subcalss of nn.Module)\n",
        "model_0 = LinearRegressionModel()\n",
        "\n",
        "# Checking the parameters\n",
        "list(model_0.parameters())"
      ],
      "metadata": {
        "colab": {
          "base_uri": "https://localhost:8080/"
        },
        "id": "2bY7UBji6fBm",
        "outputId": "a329e617-c1f7-4591-8f64-3888d8d9ae44"
      },
      "execution_count": null,
      "outputs": [
        {
          "output_type": "execute_result",
          "data": {
            "text/plain": [
              "[Parameter containing:\n",
              " tensor([0.9121], requires_grad=True),\n",
              " Parameter containing:\n",
              " tensor([0.6958], requires_grad=True)]"
            ]
          },
          "metadata": {},
          "execution_count": 8
        }
      ]
    },
    {
      "cell_type": "code",
      "source": [
        "# List named parameters\n",
        "model_0.state_dict()"
      ],
      "metadata": {
        "colab": {
          "base_uri": "https://localhost:8080/"
        },
        "id": "j77vIaJZ7BF5",
        "outputId": "bcf05319-4928-4b3b-ad76-bf2182f4e990"
      },
      "execution_count": null,
      "outputs": [
        {
          "output_type": "execute_result",
          "data": {
            "text/plain": [
              "OrderedDict([('weights', tensor([0.9121])), ('bias', tensor([0.6958]))])"
            ]
          },
          "metadata": {},
          "execution_count": 9
        }
      ]
    },
    {
      "cell_type": "markdown",
      "source": [
        "### Making predictions using `torch.inference_mode()`\n",
        "When we pass data through the model, it will run it through the `forward()` method.\n",
        "\n",
        "The ` with torch.inference_mode()` does not store the gradients, this makes it faster than just using `y_pred = model_0(X_test)`\n",
        "\n",
        "Inference is another term for prediction."
      ],
      "metadata": {
        "id": "iSPJfbRl99O6"
      }
    },
    {
      "cell_type": "code",
      "source": [
        "# Model predictions\n",
        "with torch.inference_mode():\n",
        "  y_preds = model_0(X_test)\n",
        "y_preds, y_test"
      ],
      "metadata": {
        "colab": {
          "base_uri": "https://localhost:8080/"
        },
        "id": "9OX3OvETC0vt",
        "outputId": "53fe6198-99ab-4a36-cc9b-fb4aa5f6448c"
      },
      "execution_count": null,
      "outputs": [
        {
          "output_type": "execute_result",
          "data": {
            "text/plain": [
              "(tensor([[1.4254],\n",
              "         [1.4437],\n",
              "         [1.4619],\n",
              "         [1.4802],\n",
              "         [1.4984],\n",
              "         [1.5166],\n",
              "         [1.5349],\n",
              "         [1.5531],\n",
              "         [1.5714],\n",
              "         [1.5896]]),\n",
              " tensor([[0.8600],\n",
              "         [0.8740],\n",
              "         [0.8880],\n",
              "         [0.9020],\n",
              "         [0.9160],\n",
              "         [0.9300],\n",
              "         [0.9440],\n",
              "         [0.9580],\n",
              "         [0.9720],\n",
              "         [0.9860]]))"
            ]
          },
          "metadata": {},
          "execution_count": 10
        }
      ]
    },
    {
      "cell_type": "code",
      "source": [
        "# Visualising our predictions\n",
        "plot_predictions(predictions= y_preds)\n",
        "\n",
        "#Our prediction won't be very good for now"
      ],
      "metadata": {
        "colab": {
          "base_uri": "https://localhost:8080/",
          "height": 430
        },
        "id": "S9jgTO1zDLuA",
        "outputId": "ab391e98-0f57-4bae-fa09-69f463aae6d3"
      },
      "execution_count": null,
      "outputs": [
        {
          "output_type": "display_data",
          "data": {
            "text/plain": [
              "<Figure size 640x480 with 1 Axes>"
            ],
            "image/png": "[encoded data removed]"
          },
          "metadata": {}
        }
      ]
    },
    {
      "cell_type": "markdown",
      "source": [
        "## 3. Train model\n",
        "\n",
        "Things we need to train:\n",
        "\n",
        "* **Cost functions:** We use criterion/loss/cost functions to measure how wrong the model predictions are to their true values. Lower is better.\n",
        "\n",
        "* **Optimiser:** Tie together the loss function and model parameters (weights & bias) by updating the model in response to the output of the loss function. aka it tweeks the weights and bias to minimise the loss function.\n",
        "\n",
        "Specifically in PyTorch, we will need:\n",
        "\n",
        "* A training loop\n",
        "* A testing loop"
      ],
      "metadata": {
        "id": "TEj3gDhjD5Af"
      }
    },
    {
      "cell_type": "code",
      "source": [
        "# Checking our model's parameters (a value the model sets itself)\n",
        "model_0.state_dict()"
      ],
      "metadata": {
        "colab": {
          "base_uri": "https://localhost:8080/"
        },
        "id": "gyxxPUvAa5fH",
        "outputId": "8b8bc261-5a58-437c-a01a-647f5e113f5d"
      },
      "execution_count": null,
      "outputs": [
        {
          "output_type": "execute_result",
          "data": {
            "text/plain": [
              "OrderedDict([('weights', tensor([0.9121])), ('bias', tensor([0.6958]))])"
            ]
          },
          "metadata": {},
          "execution_count": 12
        }
      ]
    },
    {
      "cell_type": "code",
      "source": [
        "# Loss function (MAE)\n",
        "loss_fn = nn.L1Loss()\n",
        "\n",
        "# Optimizer (Stochastic Gradient Descent)\n",
        "optimizer = torch.optim.SGD(params= model_0.parameters(),\n",
        "                            lr = 0.01) # lr is learning rate\n",
        "                                       # lr is a hyperparamter, a value that we choose ourselves"
      ],
      "metadata": {
        "id": "bKHh3_nsbeSu"
      },
      "execution_count": null,
      "outputs": []
    },
    {
      "cell_type": "markdown",
      "source": [
        "## Building a training loop and testing loop in PyTorch.\n",
        "\n",
        "0. Loop throught the data and do steps below:\n",
        "1. Forward pass (data passes through the `forward()` functions to make prediction)\n",
        "2. Calculate loss (compare predictions to true values)\n",
        "3. OPtimizer zero grad\n",
        "4. Backpropagation\n",
        "5. Optimizer step - use optim to improve loss (gradient descent)"
      ],
      "metadata": {
        "id": "yLKi8XtLmIAa"
      }
    },
    {
      "cell_type": "code",
      "source": [
        "# Empty lists to keep track of important values\n",
        "epoch_count = []\n",
        "train_loss_values = []\n",
        "test_loss_values = []\n",
        "\n",
        "# An epcoh is one loop through the data.\n",
        "epochs = 200\n",
        "\n",
        "### TRAINING\n",
        "# 0. Loop through the data.\n",
        "for epoch in range(epochs):\n",
        "  # Set the model to training mode\n",
        "  model_0.train() # sets all parameters that require gradients to require gradients\n",
        "\n",
        "  # 1. Forward pass\n",
        "  y_preds = model_0(X_train)\n",
        "\n",
        "  # 2. Calculate the loss\n",
        "  loss = loss_fn(y_preds, y_train)\n",
        "\n",
        "  # 3. Optimizer zero grad\n",
        "  optimizer.zero_grad() # Resets the gradients each loop\n",
        "\n",
        "  # 4. Backpropagation on the loss with respect to the params\n",
        "  loss.backward()\n",
        "\n",
        "  # 5. Optimizer step\n",
        "  optimizer.step() # optimizer changes accumulate through the loop, thus we zero them in step 3\n",
        "\n",
        "  ### TESTING\n",
        "  model_0.eval()\n",
        "  with torch.inference_mode():\n",
        "    test_preds = model_0(X_test)\n",
        "    test_loss = loss_fn(test_preds, y_test)\n",
        "\n",
        "  if epoch % 10 == 0:\n",
        "    epoch_count.append(epoch)\n",
        "    train_loss_values.append(loss.detach().numpy())\n",
        "    test_loss_values.append(test_loss.detach().numpy())\n",
        "    print(f\"Epoch: {epoch} | Train loss: {loss} | Test loss: {test_loss}\")\n",
        "\n"
      ],
      "metadata": {
        "id": "L3skCKo9y1lh",
        "colab": {
          "base_uri": "https://localhost:8080/"
        },
        "outputId": "95009620-75e4-4f2b-ebf4-62ec70a137c5"
      },
      "execution_count": null,
      "outputs": [
        {
          "output_type": "stream",
          "name": "stdout",
          "text": [
            "Epoch: 0 | Train loss: 0.47848907113075256 | Test loss: 0.5710541009902954\n",
            "Epoch: 10 | Train loss: 0.36327916383743286 | Test loss: 0.4363442361354828\n",
            "Epoch: 20 | Train loss: 0.24806928634643555 | Test loss: 0.30163446068763733\n",
            "Epoch: 30 | Train loss: 0.13285940885543823 | Test loss: 0.1669246256351471\n",
            "Epoch: 40 | Train loss: 0.018156850710511208 | Test loss: 0.03426813334226608\n",
            "Epoch: 50 | Train loss: 0.0068079703487455845 | Test loss: 0.014825696125626564\n",
            "Epoch: 60 | Train loss: 0.003379143076017499 | Test loss: 0.007240039296448231\n",
            "Epoch: 70 | Train loss: 0.008515967056155205 | Test loss: 0.005856209900230169\n",
            "Epoch: 80 | Train loss: 0.008515967056155205 | Test loss: 0.005856209900230169\n",
            "Epoch: 90 | Train loss: 0.008515967056155205 | Test loss: 0.005856209900230169\n",
            "Epoch: 100 | Train loss: 0.008515967056155205 | Test loss: 0.005856209900230169\n",
            "Epoch: 110 | Train loss: 0.008515967056155205 | Test loss: 0.005856209900230169\n",
            "Epoch: 120 | Train loss: 0.008515967056155205 | Test loss: 0.005856209900230169\n",
            "Epoch: 130 | Train loss: 0.008515967056155205 | Test loss: 0.005856209900230169\n",
            "Epoch: 140 | Train loss: 0.008515967056155205 | Test loss: 0.005856209900230169\n",
            "Epoch: 150 | Train loss: 0.008515967056155205 | Test loss: 0.005856209900230169\n",
            "Epoch: 160 | Train loss: 0.008515967056155205 | Test loss: 0.005856209900230169\n",
            "Epoch: 170 | Train loss: 0.008515967056155205 | Test loss: 0.005856209900230169\n",
            "Epoch: 180 | Train loss: 0.008515967056155205 | Test loss: 0.005856209900230169\n",
            "Epoch: 190 | Train loss: 0.008515967056155205 | Test loss: 0.005856209900230169\n"
          ]
        }
      ]
    },
    {
      "cell_type": "code",
      "source": [
        "#Visualising training and testing Loss Curves\n",
        "\n",
        "plt.plot(epoch_count, train_loss_values, label = \"Training Loss\")\n",
        "plt.plot(epoch_count, test_loss_values, label = \"Testing Loss\")\n",
        "plt.title(\"Training and Testing Loss Curve\")\n",
        "plt.xlabel(\"Epochs\")\n",
        "plt.ylabel(\"Loss\")"
      ],
      "metadata": {
        "colab": {
          "base_uri": "https://localhost:8080/"
        },
        "id": "ejiMqn-H2DDY",
        "outputId": "0af2f60f-c631-4f76-d844-c6857c390214"
      },
      "execution_count": null,
      "outputs": [
        {
          "output_type": "execute_result",
          "data": {
            "text/plain": [
              "Text(0, 0.5, 'Loss')"
            ]
          },
          "metadata": {},
          "execution_count": 15
        },
        {
          "output_type": "display_data",
          "data": {
            "text/plain": [
              "<Figure size 640x480 with 1 Axes>"
            ],
            "image/png": "[encoded data removed]"
          },
          "metadata": {}
        }
      ]
    },
    {
      "cell_type": "code",
      "source": [
        "with torch.inference_mode():\n",
        "  y_preds_new = model_0(X_test)\n",
        "\n",
        "plot_predictions(predictions = y_preds_new)"
      ],
      "metadata": {
        "colab": {
          "base_uri": "https://localhost:8080/"
        },
        "id": "RzT1hknqhl0z",
        "outputId": "7c6b15ce-8467-4c85-ad8c-d95c4b3ef100"
      },
      "execution_count": null,
      "outputs": [
        {
          "output_type": "display_data",
          "data": {
            "text/plain": [
              "<Figure size 640x480 with 1 Axes>"
            ],
            "image/png": "[encoded data removed]"
          },
          "metadata": {}
        }
      ]
    },
    {
      "cell_type": "code",
      "source": [],
      "metadata": {
        "id": "0AwJqcnukEMg"
      },
      "execution_count": null,
      "outputs": []
    }
  ]
}