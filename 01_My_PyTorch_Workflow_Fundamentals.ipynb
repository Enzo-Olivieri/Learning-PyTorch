{
  "nbformat": 4,
  "nbformat_minor": 0,
  "metadata": {
    "colab": {
      "provenance": [],
      "gpuType": "T4",
      "authorship_tag": "ABX9TyPsX2zbSe02H1siQylGZP7E"
    },
    "kernelspec": {
      "name": "python3",
      "display_name": "Python 3"
    },
    "language_info": {
      "name": "python"
    },
    "accelerator": "GPU"
  },
  "cells": [
    {
      "cell_type": "markdown",
      "source": [
        "# PyTorch Workflow\n",
        "\n",
        "Exploring an end-to-end PyTorch workflow.\n",
        "\n",
        "I utilise the following resources:\n",
        "\n",
        "1. https://github.com/mrdbourke/pytorch-deep-learning/blob/main/01_pytorch_workflow.ipynb\n",
        "2. https://www.learnpytorch.io/01_pytorch_workflow/"
      ],
      "metadata": {
        "id": "XiznDFgpuG4r"
      }
    },
    {
      "cell_type": "markdown",
      "source": [
        "<img src=\"https://raw.githubusercontent.com/mrdbourke/pytorch-deep-learning/main/images/01_a_pytorch_workflow.png\" width=900 alt=\"a pytorch workflow flowchat\"/>"
      ],
      "metadata": {
        "id": "nj_ulBojzGB4"
      }
    },
    {
      "cell_type": "code",
      "source": [
        "import torch\n",
        "from torch import nn # PyTorch's building blocks https://pytorch.org/docs/stable/nn.html\n",
        "import matplotlib.pyplot as plt\n",
        "import numpy as np\n",
        "\n",
        "# PyTorch Version\n",
        "torch.__version__"
      ],
      "metadata": {
        "colab": {
          "base_uri": "https://localhost:8080/",
          "height": 35
        },
        "id": "WZ4psqbZwnCX",
        "outputId": "590d1214-d130-438f-cf5e-2391e4cce647"
      },
      "execution_count": null,
      "outputs": [
        {
          "output_type": "execute_result",
          "data": {
            "text/plain": [
              "'2.6.0+cu124'"
            ],
            "application/vnd.google.colaboratory.intrinsic+json": {
              "type": "string"
            }
          },
          "metadata": {},
          "execution_count": 1
        }
      ]
    },
    {
      "cell_type": "markdown",
      "source": [
        "## 1. Data (preparing and loading).\n",
        "\n",
        "Two main ideas are:\n",
        "1. Get data into a numerical representation.\n",
        "2. Build a model to learn patterns in that numerical representation."
      ],
      "metadata": {
        "id": "NeSn0vjhx7MC"
      }
    },
    {
      "cell_type": "markdown",
      "source": [
        "<img src=https://raw.githubusercontent.com/mrdbourke/pytorch-deep-learning/main/images/01-machine-learning-a-game-of-two-parts.png\n",
        "width=900 alt=\"a game of 2 parts\"/>"
      ],
      "metadata": {
        "id": "eGx9IEgJzICc"
      }
    },
    {
      "cell_type": "markdown",
      "source": [
        "To showcase these steps we can generate some dummy data using the linear regression formula.\n",
        "\n",
        "Using linear regressuion we'll make a stright line with known **parameters**.\n"
      ],
      "metadata": {
        "id": "DbZFPbhVztvN"
      }
    },
    {
      "cell_type": "code",
      "source": [
        "# Creating known parameters\n",
        "\n",
        "bias = 0.3\n",
        "weight = 0.7\n",
        "\n",
        "start = 0\n",
        "end = 1\n",
        "step = 0.02\n",
        "\n",
        "X = torch.arange(start, end, step).unsqueeze(dim=1) #the unsqueeze is important later for model building\n",
        "\n",
        "y = weight*X + bias\n",
        "\n",
        "#X, y"
      ],
      "metadata": {
        "id": "msJ8e-3uy-2I",
        "collapsed": true
      },
      "execution_count": null,
      "outputs": []
    },
    {
      "cell_type": "markdown",
      "source": [
        "### Splitting data into training and testing set\n",
        "creating a training and test set with our data."
      ],
      "metadata": {
        "id": "ys3RLyB24eC0"
      }
    },
    {
      "cell_type": "code",
      "source": [
        "# Create a test/train split\n",
        "train_split = int(0.8 * len(X))\n",
        "\n",
        "X_train, y_train = X[:train_split], y[:train_split]\n",
        "X_test, y_test = X[train_split:], y[train_split:]"
      ],
      "metadata": {
        "id": "3HfANG6xfV7W"
      },
      "execution_count": null,
      "outputs": []
    },
    {
      "cell_type": "code",
      "source": [
        "len(X_train), len(y_train), len(X_test), len(y_test)"
      ],
      "metadata": {
        "colab": {
          "base_uri": "https://localhost:8080/"
        },
        "id": "YM65YHA1hDTv",
        "outputId": "74de4472-3f0c-452c-dbcd-157147841862"
      },
      "execution_count": null,
      "outputs": [
        {
          "output_type": "execute_result",
          "data": {
            "text/plain": [
              "(40, 40, 10, 10)"
            ]
          },
          "metadata": {},
          "execution_count": 4
        }
      ]
    },
    {
      "cell_type": "markdown",
      "source": [
        "### Visualising"
      ],
      "metadata": {
        "id": "gvMj7wfYkapG"
      }
    },
    {
      "cell_type": "code",
      "source": [
        "def plot_predictions(train_data = X_train, train_label = y_train,\n",
        "                     test_data = X_test, test_label = y_test,\n",
        "                     predictions = None):\n",
        "  \"\"\" Plots the train/test data and compares predictions. Outputs 1 Graph. \"\"\"\n",
        "\n",
        "  #Plot training data\n",
        "  plt.scatter(train_data, train_label, c= \"b\", s = 4, label = \"Training Data\")\n",
        "\n",
        "  #Plot testing data\n",
        "  plt.scatter(X_test, y_test, c=\"g\", s=4, label = \"Testing Data\")\n",
        "\n",
        "  if predictions is not None:\n",
        "    plt.scatter(test_data, predictions, c = \"r\", s=4, label = \"Predictions\")\n",
        "\n",
        "  #Show Legend\n",
        "  plt.legend(prop={\"size\": 14})"
      ],
      "metadata": {
        "id": "kUPCXV8-0iZU"
      },
      "execution_count": null,
      "outputs": []
    },
    {
      "cell_type": "code",
      "source": [
        "plot_predictions()"
      ],
      "metadata": {
        "colab": {
          "base_uri": "https://localhost:8080/",
          "height": 430
        },
        "id": "qh9rR3d83sai",
        "outputId": "dc4e125d-3b09-45ff-b669-079e9e869a67"
      },
      "execution_count": null,
      "outputs": [
        {
          "output_type": "display_data",
          "data": {
            "text/plain": [
              "<Figure size 640x480 with 1 Axes>"
            ],
            "image/png": "[encoded data removed]"
          },
          "metadata": {}
        }
      ]
    },
    {
      "cell_type": "markdown",
      "source": [
        "## 2. Build Model\n",
        "First PyTorch Model"
      ],
      "metadata": {
        "id": "YpS208rJ3xj6"
      }
    },
    {
      "cell_type": "markdown",
      "source": [
        "<img src=https://raw.githubusercontent.com/mrdbourke/pytorch-deep-learning/main/images/01-pytorch-linear-model-annotated.png\n",
        "width=900 alt=\"model building blocks\"/>"
      ],
      "metadata": {
        "id": "KQ_-D0epa2u6"
      }
    },
    {
      "cell_type": "code",
      "source": [
        "class LinearRegressionModel(nn.Module): #inherits from nn.Module - this is a subclass of nn.Module\n",
        "  def __init__(self):\n",
        "    super().__init__()\n",
        "    self.weights = nn.Parameter(torch.rand(1,\n",
        "                              requires_grad = True,\n",
        "                              dtype = torch.float))\n",
        "\n",
        "    self.bias = nn.Parameter(torch.rand(1,\n",
        "                           requires_grad= True,\n",
        "                           dtype = torch.float))\n",
        "    # Forward method\n",
        "  def forward(self, x: torch.Tensor) -> torch.tensor: # <- \"x\" is the input data\n",
        "    return self.weights*x + self.bias #this is the linear regression formula\n",
        "\n",
        "\n"
      ],
      "metadata": {
        "id": "KsGKrJGY5DQD"
      },
      "execution_count": null,
      "outputs": []
    },
    {
      "cell_type": "markdown",
      "source": [
        "###Checking the contents of the PyTorch model\n",
        "\n",
        "We can check our model parameters using `.parameters()`"
      ],
      "metadata": {
        "id": "j-VyUMtXlhNN"
      }
    },
    {
      "cell_type": "code",
      "source": [
        "# Creating random seed\n",
        "#torch.manual_seed(42)\n",
        "\n",
        "# Creating an instance of the model (this is a subcalss of nn.Module)\n",
        "model_0 = LinearRegressionModel()\n",
        "\n",
        "# Checking the parameters\n",
        "list(model_0.parameters())"
      ],
      "metadata": {
        "colab": {
          "base_uri": "https://localhost:8080/"
        },
        "id": "2bY7UBji6fBm",
        "outputId": "215d6b2c-3b7e-4841-baeb-effb1415767f"
      },
      "execution_count": null,
      "outputs": [
        {
          "output_type": "execute_result",
          "data": {
            "text/plain": [
              "[Parameter containing:\n",
              " tensor([0.5496], requires_grad=True),\n",
              " Parameter containing:\n",
              " tensor([0.6767], requires_grad=True)]"
            ]
          },
          "metadata": {},
          "execution_count": 8
        }
      ]
    },
    {
      "cell_type": "code",
      "source": [
        "# List named parameters\n",
        "model_0.state_dict()"
      ],
      "metadata": {
        "colab": {
          "base_uri": "https://localhost:8080/"
        },
        "id": "j77vIaJZ7BF5",
        "outputId": "67deab73-20d6-4b81-db13-1a8483666007"
      },
      "execution_count": null,
      "outputs": [
        {
          "output_type": "execute_result",
          "data": {
            "text/plain": [
              "OrderedDict([('weights', tensor([0.5496])), ('bias', tensor([0.6767]))])"
            ]
          },
          "metadata": {},
          "execution_count": 9
        }
      ]
    },
    {
      "cell_type": "markdown",
      "source": [
        "### Making predictions using `torch.inference_mode()`\n",
        "When we pass data through the model, it will run it through the `forward()` method.\n",
        "\n",
        "The ` with torch.inference_mode()` does not store the gradients (necessary for training but not for inferencing), this makes it faster than just using `y_pred = model_0(X_test)`\n",
        "\n",
        "Inference is another term for prediction."
      ],
      "metadata": {
        "id": "iSPJfbRl99O6"
      }
    },
    {
      "cell_type": "code",
      "source": [
        "# Model predictions\n",
        "with torch.inference_mode():\n",
        "  y_preds = model_0(X_test)\n",
        "#y_preds, y_test"
      ],
      "metadata": {
        "id": "9OX3OvETC0vt"
      },
      "execution_count": null,
      "outputs": []
    },
    {
      "cell_type": "code",
      "source": [
        "# Visualising our predictions\n",
        "plot_predictions(predictions= y_preds)\n",
        "\n",
        "#Our prediction won't be very good for now"
      ],
      "metadata": {
        "colab": {
          "base_uri": "https://localhost:8080/",
          "height": 430
        },
        "id": "S9jgTO1zDLuA",
        "outputId": "b7ec3ee6-6394-44e6-fd77-2cac2701c80a"
      },
      "execution_count": null,
      "outputs": [
        {
          "output_type": "display_data",
          "data": {
            "text/plain": [
              "<Figure size 640x480 with 1 Axes>"
            ],
            "image/png": "[encoded data removed]"
          },
          "metadata": {}
        }
      ]
    },
    {
      "cell_type": "markdown",
      "source": [
        "## 3. Train model\n",
        "\n",
        "Things we need to train:\n",
        "\n",
        "* **Cost functions:** We use criterion/loss/cost functions to measure how wrong the model predictions are to their true values. Lower is better.\n",
        "\n",
        "* **Optimiser:** Tie together the loss function and model parameters (weights & bias) by updating the model in response to the output of the loss function. aka it tweeks the weights and bias to minimise the loss function.\n",
        "\n",
        "Specifically in PyTorch, we will need:\n",
        "\n",
        "* A training loop\n",
        "* A testing loop"
      ],
      "metadata": {
        "id": "TEj3gDhjD5Af"
      }
    },
    {
      "cell_type": "code",
      "source": [
        "# Checking our model's parameters (a value the model sets itself)\n",
        "model_0.state_dict()"
      ],
      "metadata": {
        "colab": {
          "base_uri": "https://localhost:8080/"
        },
        "id": "gyxxPUvAa5fH",
        "outputId": "09e760d0-3c5a-43d9-bce8-be20db2f067f"
      },
      "execution_count": null,
      "outputs": [
        {
          "output_type": "execute_result",
          "data": {
            "text/plain": [
              "OrderedDict([('weights', tensor([0.5496])), ('bias', tensor([0.6767]))])"
            ]
          },
          "metadata": {},
          "execution_count": 12
        }
      ]
    },
    {
      "cell_type": "code",
      "source": [
        "# Loss function (MAE)\n",
        "loss_fn = nn.L1Loss()\n",
        "\n",
        "# Optimizer (Stochastic Gradient Descent)\n",
        "optimizer = torch.optim.SGD(params= model_0.parameters(),\n",
        "                            lr = 0.01) # lr is learning rate\n",
        "                                       # lr is a hyperparamter, a value that we choose ourselves"
      ],
      "metadata": {
        "id": "bKHh3_nsbeSu"
      },
      "execution_count": null,
      "outputs": []
    },
    {
      "cell_type": "markdown",
      "source": [
        "## Building a training loop and testing loop in PyTorch.\n",
        "\n",
        "0. Loop throught the data and do steps below:\n",
        "1. Forward pass (data passes through the `forward()` functions to make prediction)\n",
        "2. Calculate loss (compare predictions to true values)\n",
        "3. OPtimizer zero grad\n",
        "4. Backpropagation\n",
        "5. Optimizer step - use optim to improve loss (gradient descent)"
      ],
      "metadata": {
        "id": "yLKi8XtLmIAa"
      }
    },
    {
      "cell_type": "code",
      "source": [
        "# Empty lists to keep track of important values\n",
        "epoch_count = []\n",
        "train_loss_values = []\n",
        "test_loss_values = []\n",
        "\n",
        "# An epcoh is one loop through the data.\n",
        "epochs = 300\n",
        "\n",
        "### TRAINING\n",
        "# 0. Loop through the data.\n",
        "for epoch in range(epochs):\n",
        "  # Set the model to training mode\n",
        "  model_0.train() # sets all parameters that require gradients to require gradients\n",
        "\n",
        "  # 1. Forward pass\n",
        "  y_preds = model_0(X_train)\n",
        "\n",
        "  # 2. Calculate the loss\n",
        "  loss = loss_fn(y_preds, y_train)\n",
        "\n",
        "  # 3. Optimizer zero grad\n",
        "  optimizer.zero_grad() # Resets the gradients each loop\n",
        "\n",
        "  # 4. Backpropagation on the loss with respect to the params\n",
        "  loss.backward()\n",
        "\n",
        "  # 5. Optimizer step\n",
        "  optimizer.step() # optimizer changes accumulate through the loop, thus we zero them in step 3\n",
        "\n",
        "  ### TESTING\n",
        "  model_0.eval()\n",
        "  with torch.inference_mode():\n",
        "    test_preds = model_0(X_test)\n",
        "    test_loss = loss_fn(test_preds, y_test)\n",
        "\n",
        "  if epoch % 10 == 0:\n",
        "    epoch_count.append(epoch)\n",
        "    train_loss_values.append(loss.detach().numpy())\n",
        "    test_loss_values.append(test_loss.detach().numpy())\n",
        "    print(f\"Epoch: {epoch} | Train loss: {loss} | Test loss: {test_loss}\")\n",
        "\n"
      ],
      "metadata": {
        "id": "L3skCKo9y1lh",
        "colab": {
          "base_uri": "https://localhost:8080/"
        },
        "outputId": "e004f3c2-22ec-401f-e9bc-f7d16d1e6f11"
      },
      "execution_count": null,
      "outputs": [
        {
          "output_type": "stream",
          "name": "stdout",
          "text": [
            "Epoch: 0 | Train loss: 0.31805524230003357 | Test loss: 0.22938942909240723\n",
            "Epoch: 10 | Train loss: 0.20284537971019745 | Test loss: 0.0946795865893364\n",
            "Epoch: 20 | Train loss: 0.08770734071731567 | Test loss: 0.03918316215276718\n",
            "Epoch: 30 | Train loss: 0.05137895420193672 | Test loss: 0.09448917210102081\n",
            "Epoch: 40 | Train loss: 0.04600024223327637 | Test loss: 0.10224688053131104\n",
            "Epoch: 50 | Train loss: 0.042456936091184616 | Test loss: 0.0980956181883812\n",
            "Epoch: 60 | Train loss: 0.039011888206005096 | Test loss: 0.09050996601581573\n",
            "Epoch: 70 | Train loss: 0.03557385131716728 | Test loss: 0.08223742246627808\n",
            "Epoch: 80 | Train loss: 0.032138392329216 | Test loss: 0.07465176284313202\n",
            "Epoch: 90 | Train loss: 0.028709042817354202 | Test loss: 0.06637920439243317\n",
            "Epoch: 100 | Train loss: 0.025270232930779457 | Test loss: 0.0581066831946373\n",
            "Epoch: 110 | Train loss: 0.02183646149933338 | Test loss: 0.05052100867033005\n",
            "Epoch: 120 | Train loss: 0.01840541698038578 | Test loss: 0.042248476296663284\n",
            "Epoch: 130 | Train loss: 0.014966616407036781 | Test loss: 0.03397592902183533\n",
            "Epoch: 140 | Train loss: 0.011534529738128185 | Test loss: 0.026390284299850464\n",
            "Epoch: 150 | Train loss: 0.008101796731352806 | Test loss: 0.01811773143708706\n",
            "Epoch: 160 | Train loss: 0.004662990570068359 | Test loss: 0.009845191612839699\n",
            "Epoch: 170 | Train loss: 0.004574703983962536 | Test loss: 0.004686933942139149\n",
            "Epoch: 180 | Train loss: 0.004574703983962536 | Test loss: 0.004686933942139149\n",
            "Epoch: 190 | Train loss: 0.004574703983962536 | Test loss: 0.004686933942139149\n",
            "Epoch: 200 | Train loss: 0.004574703983962536 | Test loss: 0.004686933942139149\n",
            "Epoch: 210 | Train loss: 0.004574703983962536 | Test loss: 0.004686933942139149\n",
            "Epoch: 220 | Train loss: 0.004574703983962536 | Test loss: 0.004686933942139149\n",
            "Epoch: 230 | Train loss: 0.004574703983962536 | Test loss: 0.004686933942139149\n",
            "Epoch: 240 | Train loss: 0.004574703983962536 | Test loss: 0.004686933942139149\n",
            "Epoch: 250 | Train loss: 0.004574703983962536 | Test loss: 0.004686933942139149\n",
            "Epoch: 260 | Train loss: 0.004574703983962536 | Test loss: 0.004686933942139149\n",
            "Epoch: 270 | Train loss: 0.004574703983962536 | Test loss: 0.004686933942139149\n",
            "Epoch: 280 | Train loss: 0.004574703983962536 | Test loss: 0.004686933942139149\n",
            "Epoch: 290 | Train loss: 0.004574703983962536 | Test loss: 0.004686933942139149\n"
          ]
        }
      ]
    },
    {
      "cell_type": "code",
      "source": [
        "#Visualising training and testing Loss Curves\n",
        "\n",
        "plt.plot(epoch_count, train_loss_values, label = \"Training Loss\")\n",
        "plt.plot(epoch_count, test_loss_values, label = \"Testing Loss\")\n",
        "plt.title(\"Training and Testing Loss Curve\")\n",
        "plt.xlabel(\"Epochs\")\n",
        "plt.ylabel(\"Loss\")\n",
        "plt.legend(prop={\"size\": 10})"
      ],
      "metadata": {
        "colab": {
          "base_uri": "https://localhost:8080/",
          "height": 489
        },
        "id": "ejiMqn-H2DDY",
        "outputId": "e6ad1ddd-bd0c-42bf-bc99-94a7674c411c"
      },
      "execution_count": null,
      "outputs": [
        {
          "output_type": "execute_result",
          "data": {
            "text/plain": [
              "<matplotlib.legend.Legend at 0x7a2a7bb84fd0>"
            ]
          },
          "metadata": {},
          "execution_count": 15
        },
        {
          "output_type": "display_data",
          "data": {
            "text/plain": [
              "<Figure size 640x480 with 1 Axes>"
            ],
            "image/png": "[encoded data removed]"
          },
          "metadata": {}
        }
      ]
    },
    {
      "cell_type": "code",
      "source": [
        "with torch.inference_mode():\n",
        "  y_preds_new = model_0(X_test)\n",
        "\n",
        "plot_predictions(predictions = y_preds_new)"
      ],
      "metadata": {
        "colab": {
          "base_uri": "https://localhost:8080/",
          "height": 430
        },
        "id": "RzT1hknqhl0z",
        "outputId": "1a058262-3543-4714-bc26-fec2bce498c3"
      },
      "execution_count": null,
      "outputs": [
        {
          "output_type": "display_data",
          "data": {
            "text/plain": [
              "<Figure size 640x480 with 1 Axes>"
            ],
            "image/png": "[encoded data removed]"
          },
          "metadata": {}
        }
      ]
    },
    {
      "cell_type": "markdown",
      "source": [
        "### Saving a model in PyTorch\n",
        "https://pytorch.org/tutorials/beginner/saving_loading_models.html\n",
        "\n",
        "\n"
      ],
      "metadata": {
        "id": "0AwJqcnukEMg"
      }
    },
    {
      "cell_type": "markdown",
      "source": [
        "## Three main ways to save and load models.\n",
        "1. `torch.save` Saves a serialized object to disk using Python's pickle utility. Models, tensors and various other Python objects like dictionaries can be saved using torch.save.\n",
        "\n",
        "2. `torch.load` \tUses pickle's unpickling features to deserialize and load pickled Python object files (like models, tensors or dictionaries) into memory. You can also set which device to load the object to (CPU, GPU etc).\n",
        "\n",
        "3. `torch.nn.Module.load_state_dict` Loads a model's parameter dictionary (model.state_dict()) using a saved state_dict() object."
      ],
      "metadata": {
        "id": "deX2EMPK38b-"
      }
    },
    {
      "cell_type": "code",
      "source": [
        "from os import mkdir\n",
        "from pathlib import Path\n",
        "\n",
        "# 1. create \"models\" directory\n",
        "MODEL_PATH = Path(\"models\")\n",
        "MODEL_PATH.mkdir(parents = True, exist_ok=True)\n",
        "\n",
        "# 2. Create model save path\n",
        "MODEL_NAME = \"01_pytorch_workflow_model_0.pth\"\n",
        "MODEL_SAVE_PATH = MODEL_PATH / MODEL_NAME\n",
        "\n",
        "# 3. Save the model state dict\n",
        "print(f\"Saving model to: {MODEL_SAVE_PATH}\")\n",
        "torch.save(obj = model_0.state_dict(), #saving state_dcit only saves the models learned parameters\n",
        "           f = MODEL_SAVE_PATH)"
      ],
      "metadata": {
        "colab": {
          "base_uri": "https://localhost:8080/"
        },
        "id": "XajaUt9i5bBh",
        "outputId": "dc2a4720-ccb2-406c-d804-81fcd9f9edce"
      },
      "execution_count": null,
      "outputs": [
        {
          "output_type": "stream",
          "name": "stdout",
          "text": [
            "Saving model to: models/01_pytorch_workflow_model_0.pth\n"
          ]
        }
      ]
    },
    {
      "cell_type": "code",
      "source": [
        "!ls -l models/01_pytorch_workflow_model_0.pth"
      ],
      "metadata": {
        "colab": {
          "base_uri": "https://localhost:8080/"
        },
        "id": "L0kEAGZCJvqP",
        "outputId": "3270f0f7-3c7c-4ae4-9d09-a5630a828231"
      },
      "execution_count": null,
      "outputs": [
        {
          "output_type": "stream",
          "name": "stdout",
          "text": [
            "-rw-r--r-- 1 root root 1680 May  8 16:25 models/01_pytorch_workflow_model_0.pth\n"
          ]
        }
      ]
    },
    {
      "cell_type": "markdown",
      "source": [
        "## Loading a PyTorch model\n",
        "\n",
        "Since we saved our model's `state_dict()` rather than the entire mode, we'll create a new instance of our model class and load the saved `state_dict()` into that."
      ],
      "metadata": {
        "id": "bBizHi8nMpDr"
      }
    },
    {
      "cell_type": "code",
      "source": [
        "model_0.state_dict()"
      ],
      "metadata": {
        "colab": {
          "base_uri": "https://localhost:8080/"
        },
        "id": "feF0gfyUQlAe",
        "outputId": "31043f2b-34f8-477b-cce5-1d88e3862d8d"
      },
      "execution_count": null,
      "outputs": [
        {
          "output_type": "execute_result",
          "data": {
            "text/plain": [
              "OrderedDict([('weights', tensor([0.6916])), ('bias', tensor([0.2987]))])"
            ]
          },
          "metadata": {},
          "execution_count": 19
        }
      ]
    },
    {
      "cell_type": "code",
      "source": [
        "# to load the state_dict() we create new instance of our model class\n",
        "loaded_model_0 = LinearRegressionModel()\n",
        "\n",
        "# Load the saved state_dict() to new model instance\n",
        "loaded_model_0.load_state_dict(torch.load(f = MODEL_SAVE_PATH))"
      ],
      "metadata": {
        "colab": {
          "base_uri": "https://localhost:8080/"
        },
        "id": "t5E4_evlQpWv",
        "outputId": "5318d4d0-e73a-4db6-fd70-f1648ac1e330"
      },
      "execution_count": null,
      "outputs": [
        {
          "output_type": "execute_result",
          "data": {
            "text/plain": [
              "<All keys matched successfully>"
            ]
          },
          "metadata": {},
          "execution_count": 20
        }
      ]
    },
    {
      "cell_type": "code",
      "source": [
        "# Making preds with laoded model\n",
        "loaded_model_0.eval()\n",
        "with torch.inference_mode():\n",
        "  loaded_model_preds = loaded_model_0(X_test)\n"
      ],
      "metadata": {
        "id": "FRzee1-GQysV"
      },
      "execution_count": null,
      "outputs": []
    },
    {
      "cell_type": "code",
      "source": [
        "y_preds_new == loaded_model_preds"
      ],
      "metadata": {
        "colab": {
          "base_uri": "https://localhost:8080/"
        },
        "id": "HISxy3_8Q0ri",
        "outputId": "4708621d-63f2-45fc-8447-891ea4e56284"
      },
      "execution_count": null,
      "outputs": [
        {
          "output_type": "execute_result",
          "data": {
            "text/plain": [
              "tensor([[True],\n",
              "        [True],\n",
              "        [True],\n",
              "        [True],\n",
              "        [True],\n",
              "        [True],\n",
              "        [True],\n",
              "        [True],\n",
              "        [True],\n",
              "        [True]])"
            ]
          },
          "metadata": {},
          "execution_count": 22
        }
      ]
    },
    {
      "cell_type": "markdown",
      "source": [
        "## Recap of what I've learnt"
      ],
      "metadata": {
        "id": "20JTOlIpSBXY"
      }
    },
    {
      "cell_type": "markdown",
      "source": [
        "###Crete device-agnostic code.\n",
        "\n",
        "If we've got a GPU, our code will run there.\n",
        "\n",
        "If no GPU is available, the code will run in CPU."
      ],
      "metadata": {
        "id": "UBRAqQ6aJrsR"
      }
    },
    {
      "cell_type": "code",
      "source": [
        "# setup device-agnostic code.\n",
        "\n",
        "device = \"cuda\" if torch.cuda.is_available() else \"cpu\"\n",
        "\n",
        "print(f\"Using device: {device}\")\n"
      ],
      "metadata": {
        "colab": {
          "base_uri": "https://localhost:8080/"
        },
        "id": "EEqtk3r4J6Ri",
        "outputId": "bd1a7f37-cfd0-40d9-813e-0b0e45e53316"
      },
      "execution_count": null,
      "outputs": [
        {
          "output_type": "stream",
          "name": "stdout",
          "text": [
            "Using device: cuda\n"
          ]
        }
      ]
    },
    {
      "cell_type": "markdown",
      "source": [
        "### Making a dummy dataset"
      ],
      "metadata": {
        "id": "2tpViXqLKlOF"
      }
    },
    {
      "cell_type": "code",
      "source": [
        "weight = 0.5\n",
        "bias = 0.9\n",
        "\n",
        "start = 0\n",
        "end = 1\n",
        "step = 0.02\n",
        "\n",
        "X = torch.arange(start, end, step).unsqueeze(dim=1)\n",
        "y = weight * X + bias"
      ],
      "metadata": {
        "id": "E4R-4bO2KnlR"
      },
      "execution_count": null,
      "outputs": []
    },
    {
      "cell_type": "code",
      "source": [
        "# Train Test split\n",
        "\n",
        "train_split = int(len(X) * 0.8)\n",
        "\n",
        "X_train, y_train = X[:train_split], y[:train_split]\n",
        "\n",
        "X_test, y_test = X[train_split:], y[train_split:]"
      ],
      "metadata": {
        "id": "I-P_4oZkMBu_"
      },
      "execution_count": null,
      "outputs": []
    },
    {
      "cell_type": "code",
      "source": [
        "def plot_predictions(train_data = X_train, train_label = y_train,\n",
        "                     test_data = X_test, test_label = y_test,\n",
        "                     predictions = None):\n",
        "  \"\"\" Plots the train/test data and compares predictions. Outputs 1 Graph. \"\"\"\n",
        "\n",
        "  #Plot training data\n",
        "  plt.scatter(train_data, train_label, c= \"b\", s = 4, label = \"Training Data\")\n",
        "\n",
        "  #Plot testing data\n",
        "  plt.scatter(X_test, y_test, c=\"g\", s=4, label = \"Testing Data\")\n",
        "\n",
        "  if predictions is not None:\n",
        "    plt.scatter(test_data, predictions, c = \"r\", s=4, label = \"Predictions\")\n",
        "\n",
        "  #Show Legend\n",
        "  plt.legend(prop={\"size\": 14})"
      ],
      "metadata": {
        "id": "GYsjXc_CcSs9"
      },
      "execution_count": null,
      "outputs": []
    },
    {
      "cell_type": "code",
      "source": [
        "plot_predictions()"
      ],
      "metadata": {
        "colab": {
          "base_uri": "https://localhost:8080/",
          "height": 430
        },
        "id": "lwy3blquYylh",
        "outputId": "b0287fb1-fa23-4318-8428-24ed0a8c56e5"
      },
      "execution_count": null,
      "outputs": [
        {
          "output_type": "display_data",
          "data": {
            "text/plain": [
              "<Figure size 640x480 with 1 Axes>"
            ],
            "image/png": "[encoded data removed]"
          },
          "metadata": {}
        }
      ]
    },
    {
      "cell_type": "markdown",
      "source": [
        "### Building model\n",
        "Using `nn.Linear()`"
      ],
      "metadata": {
        "id": "Ow6G8x2UPD2h"
      }
    },
    {
      "cell_type": "code",
      "source": [
        "class LinearRegression(nn.Module):\n",
        "  def __init__(self):\n",
        "    super().__init__()\n",
        "\n",
        "    #inintilise linear layer which initializes model parameters\n",
        "    self.linear_layer = nn.Linear(in_features = 1,\n",
        "                             out_features = 1)\n",
        "\n",
        "    # forward propagation method\n",
        "  def forward(self, x: torch.Tensor) -> torch.Tensor:\n",
        "    return self.linear_layer(x) #perform the linear regression formula\n"
      ],
      "metadata": {
        "id": "1Fx8vD4vPGoe"
      },
      "execution_count": null,
      "outputs": []
    },
    {
      "cell_type": "code",
      "source": [
        "model = LinearRegression()\n",
        "model.state_dict()"
      ],
      "metadata": {
        "colab": {
          "base_uri": "https://localhost:8080/"
        },
        "id": "z5R5oGzHQbTe",
        "outputId": "ae27e10a-4053-4ef9-a4b2-10b5d00f4b12"
      },
      "execution_count": null,
      "outputs": [
        {
          "output_type": "execute_result",
          "data": {
            "text/plain": [
              "OrderedDict([('linear_layer.weight', tensor([[-0.5261]])),\n",
              "             ('linear_layer.bias', tensor([-0.4967]))])"
            ]
          },
          "metadata": {},
          "execution_count": 29
        }
      ]
    },
    {
      "cell_type": "code",
      "source": [
        "# check model current device\n",
        "next(model.parameters()).device"
      ],
      "metadata": {
        "colab": {
          "base_uri": "https://localhost:8080/"
        },
        "id": "grmc2Wx0QkaF",
        "outputId": "3be126e1-5479-43c0-c711-54025b769a93"
      },
      "execution_count": null,
      "outputs": [
        {
          "output_type": "execute_result",
          "data": {
            "text/plain": [
              "device(type='cpu')"
            ]
          },
          "metadata": {},
          "execution_count": 30
        }
      ]
    },
    {
      "cell_type": "code",
      "source": [
        "# Set the model to use target device\n",
        "\n",
        "model.to(device)\n",
        "next(model.parameters()).device"
      ],
      "metadata": {
        "id": "GgoVLJvWT9i1",
        "colab": {
          "base_uri": "https://localhost:8080/"
        },
        "outputId": "cd6f75af-4f70-449d-a56e-17caaf789dbb"
      },
      "execution_count": null,
      "outputs": [
        {
          "output_type": "execute_result",
          "data": {
            "text/plain": [
              "device(type='cuda', index=0)"
            ]
          },
          "metadata": {},
          "execution_count": 31
        }
      ]
    },
    {
      "cell_type": "code",
      "source": [
        "# Put the data on the GPU\n",
        "X_train = X_train.to(device)\n",
        "y_train = y_train.to(device)\n",
        "X_test = X_test.to(device)\n",
        "y_test = y_test.to(device)"
      ],
      "metadata": {
        "id": "lmdj0jCtJ0Zb"
      },
      "execution_count": null,
      "outputs": []
    },
    {
      "cell_type": "code",
      "source": [
        "X_train.device"
      ],
      "metadata": {
        "colab": {
          "base_uri": "https://localhost:8080/"
        },
        "id": "bm4KfzpMKIrV",
        "outputId": "ae4cef5b-f308-4773-a717-b8eee2054cb4"
      },
      "execution_count": null,
      "outputs": [
        {
          "output_type": "execute_result",
          "data": {
            "text/plain": [
              "device(type='cuda', index=0)"
            ]
          },
          "metadata": {},
          "execution_count": 33
        }
      ]
    },
    {
      "cell_type": "markdown",
      "source": [
        "### Training\n",
        "\n",
        "* Los Function\n",
        "* Optimizer\n",
        "* Training Loop\n",
        "* Testing Loop"
      ],
      "metadata": {
        "id": "dtIm9lqRH8Eg"
      }
    },
    {
      "cell_type": "code",
      "source": [
        "loss_function = nn.L1Loss()\n",
        "model_optimizer = torch.optim.SGD(params = model.parameters(), lr = 0.01)\n",
        "\n",
        "epoch_tracker = []\n",
        "train_loss_tracker = []\n",
        "test_loss_tracker = []\n",
        "\n",
        "epochs = 300\n",
        "\n",
        "for epoch in range(epochs):\n",
        "  model.train()\n",
        "\n",
        "  #forward pass\n",
        "  preds = model(X_train)\n",
        "\n",
        "\n",
        "  # calculate the loss\n",
        "  training_loss = loss_function(preds, y_train)\n",
        "\n",
        "  # clear the optim gradient\n",
        "  model_optimizer.zero_grad()\n",
        "\n",
        "  # back propagation\n",
        "  training_loss.backward()\n",
        "\n",
        "  # optimizer step\n",
        "  model_optimizer.step()\n",
        "\n",
        "  # model evalution\n",
        "  model.eval()\n",
        "\n",
        "  with torch.inference_mode():\n",
        "    model_test_preds = model(X_test)\n",
        "\n",
        "    model_test_loss = loss_function(model_test_preds, y_test)\n",
        "\n",
        "    epoch_tracker.append(epoch)\n",
        "    train_loss_tracker.append(training_loss)\n",
        "    test_loss_tracker.append(model_test_loss)\n",
        "\n",
        "    if epoch % 10 == 0:\n",
        "      print(f\"Epoch: {epoch} Training Loss: {training_loss} | Test Loss: {model_test_loss}\")\n",
        "\n",
        "\n"
      ],
      "metadata": {
        "colab": {
          "base_uri": "https://localhost:8080/"
        },
        "id": "3QFVWRJhI4Q3",
        "outputId": "621a32ff-4669-4790-db8c-e9c04ca21ea9"
      },
      "execution_count": null,
      "outputs": [
        {
          "output_type": "stream",
          "name": "stdout",
          "text": [
            "Epoch: 0 Training Loss: 1.7969239950180054 | Test Loss: 2.2965152263641357\n",
            "Epoch: 10 Training Loss: 1.6817140579223633 | Test Loss: 2.1618056297302246\n",
            "Epoch: 20 Training Loss: 1.5665043592453003 | Test Loss: 2.0270957946777344\n",
            "Epoch: 30 Training Loss: 1.4512943029403687 | Test Loss: 1.8923858404159546\n",
            "Epoch: 40 Training Loss: 1.3360843658447266 | Test Loss: 1.7576760053634644\n",
            "Epoch: 50 Training Loss: 1.220874309539795 | Test Loss: 1.6229660511016846\n",
            "Epoch: 60 Training Loss: 1.1056644916534424 | Test Loss: 1.4882559776306152\n",
            "Epoch: 70 Training Loss: 0.9904544949531555 | Test Loss: 1.3535460233688354\n",
            "Epoch: 80 Training Loss: 0.8752444386482239 | Test Loss: 1.2188360691070557\n",
            "Epoch: 90 Training Loss: 0.7600345015525818 | Test Loss: 1.0841259956359863\n",
            "Epoch: 100 Training Loss: 0.6448245644569397 | Test Loss: 0.9494159817695618\n",
            "Epoch: 110 Training Loss: 0.5296146273612976 | Test Loss: 0.8147061467170715\n",
            "Epoch: 120 Training Loss: 0.4144047200679779 | Test Loss: 0.6799961924552917\n",
            "Epoch: 130 Training Loss: 0.2991948127746582 | Test Loss: 0.5452863574028015\n",
            "Epoch: 140 Training Loss: 0.18414811789989471 | Test Loss: 0.4110763669013977\n",
            "Epoch: 150 Training Loss: 0.11357332766056061 | Test Loss: 0.30684375762939453\n",
            "Epoch: 160 Training Loss: 0.08733107149600983 | Test Loss: 0.2417464703321457\n",
            "Epoch: 170 Training Loss: 0.0774327963590622 | Test Loss: 0.20289111137390137\n",
            "Epoch: 180 Training Loss: 0.0724630206823349 | Test Loss: 0.18041644990444183\n",
            "Epoch: 190 Training Loss: 0.06867390871047974 | Test Loss: 0.16600623726844788\n",
            "Epoch: 200 Training Loss: 0.06518393754959106 | Test Loss: 0.15498585999011993\n",
            "Epoch: 210 Training Loss: 0.0616939477622509 | Test Loss: 0.14396549761295319\n",
            "Epoch: 220 Training Loss: 0.0582459531724453 | Test Loss: 0.13569307327270508\n",
            "Epoch: 230 Training Loss: 0.0548163466155529 | Test Loss: 0.12742064893245697\n",
            "Epoch: 240 Training Loss: 0.0513775460422039 | Test Loss: 0.11914820969104767\n",
            "Epoch: 250 Training Loss: 0.04794401302933693 | Test Loss: 0.11156266182661057\n",
            "Epoch: 260 Training Loss: 0.04451272636651993 | Test Loss: 0.10329029709100723\n",
            "Epoch: 270 Training Loss: 0.04107391834259033 | Test Loss: 0.0950179323554039\n",
            "Epoch: 280 Training Loss: 0.03764203190803528 | Test Loss: 0.08743240684270859\n",
            "Epoch: 290 Training Loss: 0.03420908749103546 | Test Loss: 0.07916003465652466\n"
          ]
        }
      ]
    },
    {
      "cell_type": "code",
      "source": [
        "model.state_dict()"
      ],
      "metadata": {
        "colab": {
          "base_uri": "https://localhost:8080/"
        },
        "id": "581k5dJ0UTvx",
        "outputId": "45ae7d5d-dc20-42dd-f689-c306c528030d"
      },
      "execution_count": null,
      "outputs": [
        {
          "output_type": "execute_result",
          "data": {
            "text/plain": [
              "OrderedDict([('linear_layer.weight', tensor([[0.3469]], device='cuda:0')),\n",
              "             ('linear_layer.bias', tensor([0.9643], device='cuda:0'))])"
            ]
          },
          "metadata": {},
          "execution_count": 35
        }
      ]
    },
    {
      "cell_type": "code",
      "source": [
        "weight, bias"
      ],
      "metadata": {
        "colab": {
          "base_uri": "https://localhost:8080/"
        },
        "id": "itdh1OCnVYJD",
        "outputId": "b60a451c-b8e3-4e03-ec1f-4de8e84f7d06"
      },
      "execution_count": null,
      "outputs": [
        {
          "output_type": "execute_result",
          "data": {
            "text/plain": [
              "(0.5, 0.9)"
            ]
          },
          "metadata": {},
          "execution_count": 36
        }
      ]
    },
    {
      "cell_type": "code",
      "source": [
        "# plt.plot(epoch,train_loss_tracker, label = \"Training Loss\")\n",
        "# plt.plot(epoch,test_loss_tracker, label = \"Testing Loss\")\n",
        "# plt.legend()\n",
        "# plt.show()"
      ],
      "metadata": {
        "id": "Jmd0pxoUONaI"
      },
      "execution_count": null,
      "outputs": []
    },
    {
      "cell_type": "code",
      "source": [
        "model.eval()\n",
        "\n",
        "with torch.inference_mode():\n",
        "  y_preds = model(X_test)\n",
        "y_preds"
      ],
      "metadata": {
        "colab": {
          "base_uri": "https://localhost:8080/"
        },
        "id": "YrejzeYBYCOt",
        "outputId": "79ce1a82-d540-4685-adea-0f6c78a65d17"
      },
      "execution_count": null,
      "outputs": [
        {
          "output_type": "execute_result",
          "data": {
            "text/plain": [
              "tensor([[1.2418],\n",
              "        [1.2487],\n",
              "        [1.2557],\n",
              "        [1.2626],\n",
              "        [1.2695],\n",
              "        [1.2765],\n",
              "        [1.2834],\n",
              "        [1.2904],\n",
              "        [1.2973],\n",
              "        [1.3042]], device='cuda:0')"
            ]
          },
          "metadata": {},
          "execution_count": 38
        }
      ]
    },
    {
      "cell_type": "code",
      "source": [
        "# need to send the data back to the cpu to be able to plot the data\n",
        "\n",
        "X_train = X_train.cpu()\n",
        "y_train = y_train.cpu()\n",
        "X_test = X_test.cpu()\n",
        "y_test = y_test.cpu()"
      ],
      "metadata": {
        "id": "i2Co6hn9YdBX"
      },
      "execution_count": null,
      "outputs": []
    },
    {
      "cell_type": "code",
      "source": [
        "plot_predictions(predictions=y_preds.cpu())"
      ],
      "metadata": {
        "colab": {
          "base_uri": "https://localhost:8080/",
          "height": 430
        },
        "id": "7qoMkPXpSJ4B",
        "outputId": "3c3fd305-b38d-42c2-ff81-38c00742e8ed"
      },
      "execution_count": null,
      "outputs": [
        {
          "output_type": "display_data",
          "data": {
            "text/plain": [
              "<Figure size 640x480 with 1 Axes>"
            ],
            "image/png": "[encoded data removed]"
          },
          "metadata": {}
        }
      ]
    },
    {
      "cell_type": "markdown",
      "source": [
        "## Saving Model"
      ],
      "metadata": {
        "id": "OwCK_i7xWBOT"
      }
    },
    {
      "cell_type": "code",
      "source": [
        "from os import mkdir\n",
        "from pathlib import Path\n",
        "\n",
        "# create model path\n",
        "BETTER_MODELS_PATH = Path(\"Better_Models\")\n",
        "\n",
        "# make the directory\n",
        "BETTER_MODELS_PATH.mkdir(parents = True, exist_ok = True)\n",
        "\n",
        "# Create model save path\n",
        "new_model_name = \"better_linear_model.pth\"\n",
        "\n",
        "NEW_MODEL_SAVE_PATH = BETTER_MODELS_PATH / new_model_name\n",
        "\n",
        "# Saving the model state_dict()\n",
        "print(f\"Saving new model to: {NEW_MODEL_SAVE_PATH}\")\n",
        "torch.save(obj = model.state_dict(), f = NEW_MODEL_SAVE_PATH)"
      ],
      "metadata": {
        "colab": {
          "base_uri": "https://localhost:8080/"
        },
        "id": "ZbhByyNyt1SJ",
        "outputId": "426b04d2-3867-4ef0-c950-4d228479434b"
      },
      "execution_count": null,
      "outputs": [
        {
          "output_type": "stream",
          "name": "stdout",
          "text": [
            "Saving new model to: Better_Models/better_linear_model.pth\n"
          ]
        }
      ]
    },
    {
      "cell_type": "code",
      "source": [
        "# Load a PyTorch Model"
      ],
      "metadata": {
        "id": "Qi-Pck9Pw-K6"
      },
      "execution_count": null,
      "outputs": []
    },
    {
      "cell_type": "code",
      "source": [
        "# Create new isntance of model\n",
        "loaded_model = LinearRegression()\n",
        "\n",
        "# Load saved model state_dict()\n",
        "\n",
        "loaded_model.load_state_dict(torch.load(NEW_MODEL_SAVE_PATH))\n",
        "\n",
        "# Put the loaded model to device\n",
        "loaded_model.to(device)"
      ],
      "metadata": {
        "colab": {
          "base_uri": "https://localhost:8080/"
        },
        "id": "q10pzIIT7YRH",
        "outputId": "e91119be-18bd-4d92-e68f-96e6acf1d996"
      },
      "execution_count": null,
      "outputs": [
        {
          "output_type": "execute_result",
          "data": {
            "text/plain": [
              "LinearRegression(\n",
              "  (linear_layer): Linear(in_features=1, out_features=1, bias=True)\n",
              ")"
            ]
          },
          "metadata": {},
          "execution_count": 43
        }
      ]
    },
    {
      "cell_type": "code",
      "source": [
        "next(loaded_model.parameters()).device"
      ],
      "metadata": {
        "colab": {
          "base_uri": "https://localhost:8080/"
        },
        "id": "NrwJh5sH8V33",
        "outputId": "da280605-c7b3-4b98-d9d4-a43a49461880"
      },
      "execution_count": null,
      "outputs": [
        {
          "output_type": "execute_result",
          "data": {
            "text/plain": [
              "device(type='cuda', index=0)"
            ]
          },
          "metadata": {},
          "execution_count": 44
        }
      ]
    },
    {
      "cell_type": "code",
      "source": [
        "loaded_model.state_dict()"
      ],
      "metadata": {
        "colab": {
          "base_uri": "https://localhost:8080/"
        },
        "id": "koNSMSNs8fVx",
        "outputId": "34b6e61b-1c2b-4143-9ddf-b16945fa91e6"
      },
      "execution_count": null,
      "outputs": [
        {
          "output_type": "execute_result",
          "data": {
            "text/plain": [
              "OrderedDict([('linear_layer.weight', tensor([[0.3469]], device='cuda:0')),\n",
              "             ('linear_layer.bias', tensor([0.9643], device='cuda:0'))])"
            ]
          },
          "metadata": {},
          "execution_count": 45
        }
      ]
    },
    {
      "cell_type": "code",
      "source": [
        "# Evaluate loaded model\n",
        "loaded_model.eval()\n",
        "with torch.inference_mode():\n",
        "  loaded_model_preds = loaded_model(X_test.to(device))\n",
        "y_preds == loaded_model_preds"
      ],
      "metadata": {
        "colab": {
          "base_uri": "https://localhost:8080/"
        },
        "id": "Slq-ioBc8c0t",
        "outputId": "f8aee035-51b8-4299-e947-d749c5dc3220"
      },
      "execution_count": null,
      "outputs": [
        {
          "output_type": "execute_result",
          "data": {
            "text/plain": [
              "tensor([[True],\n",
              "        [True],\n",
              "        [True],\n",
              "        [True],\n",
              "        [True],\n",
              "        [True],\n",
              "        [True],\n",
              "        [True],\n",
              "        [True],\n",
              "        [True]], device='cuda:0')"
            ]
          },
          "metadata": {},
          "execution_count": 49
        }
      ]
    },
    {
      "cell_type": "code",
      "source": [],
      "metadata": {
        "id": "BIQ_Q7o989Dq"
      },
      "execution_count": null,
      "outputs": []
    }
  ]
}